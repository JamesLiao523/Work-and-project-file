{
  "cells": [
    {
      "cell_type": "code",
      "source": [
        "from vnpy.trader.constant import (Exchange, Interval)\n",
        "import pandas as pd\n",
        "from vnpy.trader.database import database_manager\n",
        "from vnpy.trader.object import (BarData,TickData)                 "
      ],
      "outputs": [],
      "execution_count": 1,
      "metadata": {}
    },
    {
      "cell_type": "markdown",
      "source": [
        "import data讀取並轉換成vnpy特定格式的function"
      ],
      "metadata": {
        "nteract": {
          "transient": {
            "deleting": false
          }
        }
      }
    },
    {
      "cell_type": "code",
      "source": [
        "imported_data = pd.read_csv(r'C:\\Users\\j4a3m\\OneDrive\\桌面\\3008.csv')\n",
        "\n",
        "imported_data['TimeFrame'] = Interval.DAILY\n",
        "imported_data['exchange']=Exchange.TSE  #original file doesn't change\n",
        "imported_data['Symbol']=\"3008\"\n",
        "# del imported_data['market']\n",
        "imported_data.head()\n",
        " \n",
        "import pytz                                                #import timezone轉換 function\n",
        "float_columns=['Open','High','Low','Close','Volume']\n",
        "\n",
        "for col in float_columns:\n",
        "    imported_data[col] = imported_data[col].astype(\"float\")\n",
        "\n",
        "datetime_format='%Y-%m-%d %H:%M:%S'\n",
        "imported_data['Time']=pd.to_datetime(imported_data['Date'], format=datetime_format, utc=True)  #timezone 轉換\n",
        "imported_data.head()"
      ],
      "outputs": [
        {
          "output_type": "execute_result",
          "execution_count": 2,
          "data": {
            "text/html": "<div>\n<style scoped>\n    .dataframe tbody tr th:only-of-type {\n        vertical-align: middle;\n    }\n\n    .dataframe tbody tr th {\n        vertical-align: top;\n    }\n\n    .dataframe thead th {\n        text-align: right;\n    }\n</style>\n<table border=\"1\" class=\"dataframe\">\n  <thead>\n    <tr style=\"text-align: right;\">\n      <th></th>\n      <th>Date</th>\n      <th>Open</th>\n      <th>High</th>\n      <th>Low</th>\n      <th>Close</th>\n      <th>Volume</th>\n      <th>TimeFrame</th>\n      <th>exchange</th>\n      <th>Symbol</th>\n      <th>Time</th>\n    </tr>\n  </thead>\n  <tbody>\n    <tr>\n      <th>0</th>\n      <td>2010/1/4</td>\n      <td>428.0</td>\n      <td>428.0</td>\n      <td>415.5</td>\n      <td>416.0</td>\n      <td>1026000.0</td>\n      <td>Interval.DAILY</td>\n      <td>Exchange.TSE</td>\n      <td>3008</td>\n      <td>2010-01-04 00:00:00+00:00</td>\n    </tr>\n    <tr>\n      <th>1</th>\n      <td>2010/1/5</td>\n      <td>419.0</td>\n      <td>420.0</td>\n      <td>407.0</td>\n      <td>408.5</td>\n      <td>1670000.0</td>\n      <td>Interval.DAILY</td>\n      <td>Exchange.TSE</td>\n      <td>3008</td>\n      <td>2010-01-05 00:00:00+00:00</td>\n    </tr>\n    <tr>\n      <th>2</th>\n      <td>2010/1/6</td>\n      <td>410.0</td>\n      <td>416.5</td>\n      <td>407.5</td>\n      <td>407.5</td>\n      <td>1728000.0</td>\n      <td>Interval.DAILY</td>\n      <td>Exchange.TSE</td>\n      <td>3008</td>\n      <td>2010-01-06 00:00:00+00:00</td>\n    </tr>\n    <tr>\n      <th>3</th>\n      <td>2010/1/7</td>\n      <td>408.0</td>\n      <td>411.0</td>\n      <td>401.0</td>\n      <td>401.0</td>\n      <td>1411000.0</td>\n      <td>Interval.DAILY</td>\n      <td>Exchange.TSE</td>\n      <td>3008</td>\n      <td>2010-01-07 00:00:00+00:00</td>\n    </tr>\n    <tr>\n      <th>4</th>\n      <td>2010/1/8</td>\n      <td>401.0</td>\n      <td>403.5</td>\n      <td>395.5</td>\n      <td>397.5</td>\n      <td>1433000.0</td>\n      <td>Interval.DAILY</td>\n      <td>Exchange.TSE</td>\n      <td>3008</td>\n      <td>2010-01-08 00:00:00+00:00</td>\n    </tr>\n  </tbody>\n</table>\n</div>",
            "text/plain": "       Date   Open   High    Low  Close     Volume       TimeFrame  \\\n0  2010/1/4  428.0  428.0  415.5  416.0  1026000.0  Interval.DAILY   \n1  2010/1/5  419.0  420.0  407.0  408.5  1670000.0  Interval.DAILY   \n2  2010/1/6  410.0  416.5  407.5  407.5  1728000.0  Interval.DAILY   \n3  2010/1/7  408.0  411.0  401.0  401.0  1411000.0  Interval.DAILY   \n4  2010/1/8  401.0  403.5  395.5  397.5  1433000.0  Interval.DAILY   \n\n       exchange Symbol                      Time  \n0  Exchange.TSE   3008 2010-01-04 00:00:00+00:00  \n1  Exchange.TSE   3008 2010-01-05 00:00:00+00:00  \n2  Exchange.TSE   3008 2010-01-06 00:00:00+00:00  \n3  Exchange.TSE   3008 2010-01-07 00:00:00+00:00  \n4  Exchange.TSE   3008 2010-01-08 00:00:00+00:00  "
          },
          "metadata": {}
        }
      ],
      "execution_count": 2,
      "metadata": {}
    },
    {
      "cell_type": "code",
      "source": [
        "import talib\n",
        "def move_df_to_mongodb(imported_data:pd.DataFrame,collection_name:str):\n",
        "    bars=[]\n",
        "    start=None\n",
        "    count=0\n",
        "    \n",
        "#     for row in imported_data.itertuples(): #Iterate over DataFrame rows as namedtuples.\n",
        "    for row in imported_data.itertuples():\n",
        "\n",
        "        bar = BarData(\n",
        "\n",
        "              symbol=row.Symbol,\n",
        "              exchange=row.exchange,\n",
        "              datetime=row.Time,\n",
        "              interval=row.TimeFrame,\n",
        "              volume=row.Volume,\n",
        "              open_price=row.Open,\n",
        "              high_price=row.High,\n",
        "              low_price=row.Low,\n",
        "              close_price=row.Close,\n",
        "              gateway_name =\"DB\",\n",
        "\n",
        "        )\n",
        "\n",
        "\n",
        "        bars.append(bar)\n",
        "        count += 1\n",
        "        if not start:\n",
        "            start = bar.datetime\n",
        "    end = bar.datetime\n",
        "\n",
        "    # insert into database，在vnpy設定的databse底下的資料夾，這裡是vnpy->Taiwan Stock\n",
        "    database_manager.save_bar_data(bars, collection_name)\n",
        "    print(f\"Insert Bar: {count} from {start} - {end}\")\n",
        "move_df_to_mongodb(imported_data,'TSE stock')"
      ],
      "outputs": [
        {
          "output_type": "stream",
          "name": "stdout",
          "text": [
            "Insert Bar: 2657 from 2010-01-04 00:00:00+00:00 - 2020-10-30 00:00:00+00:00\n"
          ]
        }
      ],
      "execution_count": 3,
      "metadata": {
        "scrolled": true
      }
    },
    {
      "cell_type": "code",
      "source": [
        "imported_data = pd.read_csv(r'C:\\Users\\j4a3m\\OneDrive\\桌面\\^IXIC.csv')\n",
        "\n",
        "imported_data['TimeFrame'] = Interval.DAILY\n",
        "imported_data['exchange']=Exchange.NYSE  #original file doesn't change\n",
        "imported_data['Symbol']=\"NASDQ\"\n",
        "# del imported_data['market']\n",
        "imported_data.head()\n",
        "\n",
        "import pytz\n",
        "float_columns=['Open','High','Low','Close','Volume']\n",
        "\n",
        "for col in float_columns:\n",
        "    imported_data[col] = imported_data[col].astype(\"float\")\n",
        "\n",
        "datetime_format='%Y-%m-%d %H:%M:%S'\n",
        "imported_data['Time']=pd.to_datetime(imported_data['Date'], format=datetime_format, utc=True)  #timezone 轉換\n",
        "imported_data.head()"
      ],
      "outputs": [
        {
          "output_type": "execute_result",
          "execution_count": 39,
          "data": {
            "text/html": "<div>\n<style scoped>\n    .dataframe tbody tr th:only-of-type {\n        vertical-align: middle;\n    }\n\n    .dataframe tbody tr th {\n        vertical-align: top;\n    }\n\n    .dataframe thead th {\n        text-align: right;\n    }\n</style>\n<table border=\"1\" class=\"dataframe\">\n  <thead>\n    <tr style=\"text-align: right;\">\n      <th></th>\n      <th>Date</th>\n      <th>Open</th>\n      <th>High</th>\n      <th>Low</th>\n      <th>Close</th>\n      <th>Adj Close</th>\n      <th>Volume</th>\n      <th>TimeFrame</th>\n      <th>exchange</th>\n      <th>Symbol</th>\n      <th>Time</th>\n    </tr>\n  </thead>\n  <tbody>\n    <tr>\n      <th>0</th>\n      <td>2010-01-15</td>\n      <td>2316.979980</td>\n      <td>2322.540039</td>\n      <td>2279.199951</td>\n      <td>2287.989990</td>\n      <td>2287.989990</td>\n      <td>2.637770e+09</td>\n      <td>Interval.DAILY</td>\n      <td>Exchange.NYSE</td>\n      <td>NASDQ</td>\n      <td>2010-01-15 00:00:00+00:00</td>\n    </tr>\n    <tr>\n      <th>1</th>\n      <td>2010-01-19</td>\n      <td>2291.020020</td>\n      <td>2320.399902</td>\n      <td>2290.679932</td>\n      <td>2320.399902</td>\n      <td>2320.399902</td>\n      <td>2.045290e+09</td>\n      <td>Interval.DAILY</td>\n      <td>Exchange.NYSE</td>\n      <td>NASDQ</td>\n      <td>2010-01-19 00:00:00+00:00</td>\n    </tr>\n    <tr>\n      <th>2</th>\n      <td>2010-01-20</td>\n      <td>2304.310059</td>\n      <td>2304.469971</td>\n      <td>2268.679932</td>\n      <td>2291.250000</td>\n      <td>2291.250000</td>\n      <td>2.351890e+09</td>\n      <td>Interval.DAILY</td>\n      <td>Exchange.NYSE</td>\n      <td>NASDQ</td>\n      <td>2010-01-20 00:00:00+00:00</td>\n    </tr>\n    <tr>\n      <th>3</th>\n      <td>2010-01-21</td>\n      <td>2298.229980</td>\n      <td>2308.979980</td>\n      <td>2259.820068</td>\n      <td>2265.699951</td>\n      <td>2265.699951</td>\n      <td>2.877800e+09</td>\n      <td>Interval.DAILY</td>\n      <td>Exchange.NYSE</td>\n      <td>NASDQ</td>\n      <td>2010-01-21 00:00:00+00:00</td>\n    </tr>\n    <tr>\n      <th>4</th>\n      <td>2010-01-22</td>\n      <td>2255.760010</td>\n      <td>2262.270020</td>\n      <td>2200.370117</td>\n      <td>2205.290039</td>\n      <td>2205.290039</td>\n      <td>2.817620e+09</td>\n      <td>Interval.DAILY</td>\n      <td>Exchange.NYSE</td>\n      <td>NASDQ</td>\n      <td>2010-01-22 00:00:00+00:00</td>\n    </tr>\n  </tbody>\n</table>\n</div>",
            "text/plain": "         Date         Open         High          Low        Close  \\\n0  2010-01-15  2316.979980  2322.540039  2279.199951  2287.989990   \n1  2010-01-19  2291.020020  2320.399902  2290.679932  2320.399902   \n2  2010-01-20  2304.310059  2304.469971  2268.679932  2291.250000   \n3  2010-01-21  2298.229980  2308.979980  2259.820068  2265.699951   \n4  2010-01-22  2255.760010  2262.270020  2200.370117  2205.290039   \n\n     Adj Close        Volume       TimeFrame       exchange Symbol  \\\n0  2287.989990  2.637770e+09  Interval.DAILY  Exchange.NYSE  NASDQ   \n1  2320.399902  2.045290e+09  Interval.DAILY  Exchange.NYSE  NASDQ   \n2  2291.250000  2.351890e+09  Interval.DAILY  Exchange.NYSE  NASDQ   \n3  2265.699951  2.877800e+09  Interval.DAILY  Exchange.NYSE  NASDQ   \n4  2205.290039  2.817620e+09  Interval.DAILY  Exchange.NYSE  NASDQ   \n\n                       Time  \n0 2010-01-15 00:00:00+00:00  \n1 2010-01-19 00:00:00+00:00  \n2 2010-01-20 00:00:00+00:00  \n3 2010-01-21 00:00:00+00:00  \n4 2010-01-22 00:00:00+00:00  "
          },
          "metadata": {}
        }
      ],
      "execution_count": 39,
      "metadata": {}
    },
    {
      "cell_type": "code",
      "source": [],
      "outputs": [],
      "execution_count": null,
      "metadata": {}
    }
  ],
  "metadata": {
    "kernelspec": {
      "display_name": "Python 3",
      "language": "python",
      "name": "python3"
    },
    "language_info": {
      "codemirror_mode": {
        "name": "ipython",
        "version": 3
      },
      "file_extension": ".py",
      "mimetype": "text/x-python",
      "name": "python",
      "nbconvert_exporter": "python",
      "pygments_lexer": "ipython3",
      "version": "3.7.6"
    },
    "nteract": {
      "version": "0.26.0"
    }
  },
  "nbformat": 4,
  "nbformat_minor": 4
}
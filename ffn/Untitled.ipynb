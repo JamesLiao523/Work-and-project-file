{
 "cells": [
  {
   "cell_type": "code",
   "execution_count": 37,
   "metadata": {},
   "outputs": [
    {
     "name": "stdout",
     "output_type": "stream",
     "text": [
      "<class 'pandas.core.frame.DataFrame'>\n"
     ]
    }
   ],
   "source": [
    "from pymongo import MongoClient\n",
    "import pandas as pd\n",
    "\n",
    "def _connect_mongo(host, port, db):\n",
    "    \"\"\" A util for making a connection to mongo \"\"\"\n",
    "    conn = MongoClient(host, port)\n",
    "\n",
    "\n",
    "    return conn[db]\n",
    "\n",
    "\n",
    "def read_mongo(db, collection, query={}, host='localhost', port=27017,no_id=True):\n",
    "    \"\"\" Read from Mongo and Store into DataFrame \"\"\"\n",
    "\n",
    "    # Connect to MongoDB\n",
    "    db = _connect_mongo(host=host, port=port, db=db)\n",
    "\n",
    "    # Make a query to the specific DB and Collection\n",
    "    cursor = db[collection].find(query)\n",
    "\n",
    "    # Expand the cursor and construct the DataFrame\n",
    "    datadf =  pd.DataFrame(list(cursor))\n",
    "\n",
    "    # Delete the _id\n",
    "    if no_id:\n",
    "        del datadf['_id']\n",
    "    \n",
    "            \n",
    "    return datadf\n",
    "    \n",
    "\n",
    "\n",
    "datadf = read_mongo(\"vnpy\", \"NYSE\")\n",
    "\n"
   ]
  },
  {
   "cell_type": "code",
   "execution_count": 38,
   "metadata": {},
   "outputs": [
    {
     "data": {
      "text/html": [
       "<div>\n",
       "<style scoped>\n",
       "    .dataframe tbody tr th:only-of-type {\n",
       "        vertical-align: middle;\n",
       "    }\n",
       "\n",
       "    .dataframe tbody tr th {\n",
       "        vertical-align: top;\n",
       "    }\n",
       "\n",
       "    .dataframe thead th {\n",
       "        text-align: right;\n",
       "    }\n",
       "</style>\n",
       "<table border=\"1\" class=\"dataframe\">\n",
       "  <thead>\n",
       "    <tr style=\"text-align: right;\">\n",
       "      <th></th>\n",
       "      <th>close_price</th>\n",
       "      <th>datetime</th>\n",
       "      <th>exchange</th>\n",
       "      <th>high_price</th>\n",
       "      <th>interval</th>\n",
       "      <th>low_price</th>\n",
       "      <th>open_interest</th>\n",
       "      <th>open_price</th>\n",
       "      <th>symbol</th>\n",
       "      <th>volume</th>\n",
       "    </tr>\n",
       "  </thead>\n",
       "  <tbody>\n",
       "    <tr>\n",
       "      <th>0</th>\n",
       "      <td>10609.650391</td>\n",
       "      <td>2010-01-15 08:00:00</td>\n",
       "      <td>NYSE</td>\n",
       "      <td>10709.940430</td>\n",
       "      <td>d</td>\n",
       "      <td>10561.059570</td>\n",
       "      <td>0.0</td>\n",
       "      <td>10706.990234</td>\n",
       "      <td>DJI</td>\n",
       "      <td>362930000.0</td>\n",
       "    </tr>\n",
       "    <tr>\n",
       "      <th>1</th>\n",
       "      <td>10725.429688</td>\n",
       "      <td>2010-01-19 08:00:00</td>\n",
       "      <td>NYSE</td>\n",
       "      <td>10729.889648</td>\n",
       "      <td>d</td>\n",
       "      <td>10591.969727</td>\n",
       "      <td>0.0</td>\n",
       "      <td>10608.370117</td>\n",
       "      <td>DJI</td>\n",
       "      <td>192150000.0</td>\n",
       "    </tr>\n",
       "    <tr>\n",
       "      <th>2</th>\n",
       "      <td>10603.150391</td>\n",
       "      <td>2010-01-20 08:00:00</td>\n",
       "      <td>NYSE</td>\n",
       "      <td>10719.919922</td>\n",
       "      <td>d</td>\n",
       "      <td>10517.299805</td>\n",
       "      <td>0.0</td>\n",
       "      <td>10719.690430</td>\n",
       "      <td>DJI</td>\n",
       "      <td>203270000.0</td>\n",
       "    </tr>\n",
       "    <tr>\n",
       "      <th>3</th>\n",
       "      <td>10389.879883</td>\n",
       "      <td>2010-01-21 08:00:00</td>\n",
       "      <td>NYSE</td>\n",
       "      <td>10614.940430</td>\n",
       "      <td>d</td>\n",
       "      <td>10374.690430</td>\n",
       "      <td>0.0</td>\n",
       "      <td>10603.910156</td>\n",
       "      <td>DJI</td>\n",
       "      <td>304290000.0</td>\n",
       "    </tr>\n",
       "    <tr>\n",
       "      <th>4</th>\n",
       "      <td>10172.980469</td>\n",
       "      <td>2010-01-22 08:00:00</td>\n",
       "      <td>NYSE</td>\n",
       "      <td>10389.580078</td>\n",
       "      <td>d</td>\n",
       "      <td>10157.639648</td>\n",
       "      <td>0.0</td>\n",
       "      <td>10389.580078</td>\n",
       "      <td>DJI</td>\n",
       "      <td>323620000.0</td>\n",
       "    </tr>\n",
       "  </tbody>\n",
       "</table>\n",
       "</div>"
      ],
      "text/plain": [
       "    close_price            datetime exchange    high_price interval  \\\n",
       "0  10609.650391 2010-01-15 08:00:00     NYSE  10709.940430        d   \n",
       "1  10725.429688 2010-01-19 08:00:00     NYSE  10729.889648        d   \n",
       "2  10603.150391 2010-01-20 08:00:00     NYSE  10719.919922        d   \n",
       "3  10389.879883 2010-01-21 08:00:00     NYSE  10614.940430        d   \n",
       "4  10172.980469 2010-01-22 08:00:00     NYSE  10389.580078        d   \n",
       "\n",
       "      low_price  open_interest    open_price symbol       volume  \n",
       "0  10561.059570            0.0  10706.990234    DJI  362930000.0  \n",
       "1  10591.969727            0.0  10608.370117    DJI  192150000.0  \n",
       "2  10517.299805            0.0  10719.690430    DJI  203270000.0  \n",
       "3  10374.690430            0.0  10603.910156    DJI  304290000.0  \n",
       "4  10157.639648            0.0  10389.580078    DJI  323620000.0  "
      ]
     },
     "execution_count": 38,
     "metadata": {},
     "output_type": "execute_result"
    }
   ],
   "source": [
    "datadf.head()"
   ]
  },
  {
   "cell_type": "code",
   "execution_count": 43,
   "metadata": {},
   "outputs": [
    {
     "ename": "ImportError",
     "evalue": "cannot import name 'GroupStats' from 'ffn.data' (C:\\Users\\j4a3m\\anaconda3\\lib\\site-packages\\ffn\\data.py)",
     "output_type": "error",
     "traceback": [
      "\u001b[1;31m---------------------------------------------------------------------------\u001b[0m",
      "\u001b[1;31mImportError\u001b[0m                               Traceback (most recent call last)",
      "\u001b[1;32m<ipython-input-43-a5abc35eaf60>\u001b[0m in \u001b[0;36m<module>\u001b[1;34m\u001b[0m\n\u001b[1;32m----> 1\u001b[1;33m \u001b[1;32mfrom\u001b[0m \u001b[0mffn\u001b[0m\u001b[1;33m.\u001b[0m\u001b[0mdata\u001b[0m \u001b[1;32mimport\u001b[0m \u001b[0mGroupStats\u001b[0m\u001b[1;33m\u001b[0m\u001b[1;33m\u001b[0m\u001b[0m\n\u001b[0m\u001b[0;32m      2\u001b[0m \u001b[1;33m\u001b[0m\u001b[0m\n\u001b[0;32m      3\u001b[0m \u001b[1;32mclass\u001b[0m \u001b[0mtransform\u001b[0m \u001b[1;33m(\u001b[0m\u001b[0mGroupStats\u001b[0m\u001b[1;33m)\u001b[0m\u001b[1;33m:\u001b[0m\u001b[1;33m\u001b[0m\u001b[1;33m\u001b[0m\u001b[0m\n\u001b[0;32m      4\u001b[0m \u001b[1;33m\u001b[0m\u001b[0m\n\u001b[0;32m      5\u001b[0m     \u001b[1;32mdef\u001b[0m \u001b[0m__init__\u001b[0m\u001b[1;33m(\u001b[0m\u001b[0mself\u001b[0m\u001b[1;33m,\u001b[0m \u001b[1;33m*\u001b[0m\u001b[0mprices\u001b[0m\u001b[1;33m)\u001b[0m\u001b[1;33m:\u001b[0m\u001b[1;33m\u001b[0m\u001b[1;33m\u001b[0m\u001b[0m\n",
      "\u001b[1;31mImportError\u001b[0m: cannot import name 'GroupStats' from 'ffn.data' (C:\\Users\\j4a3m\\anaconda3\\lib\\site-packages\\ffn\\data.py)"
     ]
    }
   ],
   "source": []
  },
  {
   "cell_type": "code",
   "execution_count": null,
   "metadata": {},
   "outputs": [],
   "source": []
  }
 ],
 "metadata": {
  "kernelspec": {
   "display_name": "Python 3",
   "language": "python",
   "name": "python3"
  },
  "language_info": {
   "codemirror_mode": {
    "name": "ipython",
    "version": 3
   },
   "file_extension": ".py",
   "mimetype": "text/x-python",
   "name": "python",
   "nbconvert_exporter": "python",
   "pygments_lexer": "ipython3",
   "version": "3.7.6"
  }
 },
 "nbformat": 4,
 "nbformat_minor": 4
}

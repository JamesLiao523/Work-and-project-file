{
 "cells": [
  {
   "cell_type": "markdown",
   "metadata": {},
   "source": [
    "# Lecture 1: Python Programming (1 / 2)\n",
    "\n",
    "* Complete tutorial of python programming can be found in https://stanfordpython.com/."
   ]
  },
  {
   "cell_type": "markdown",
   "metadata": {},
   "source": [
    "## Hello, Python."
   ]
  },
  {
   "cell_type": "code",
   "execution_count": 1,
   "metadata": {},
   "outputs": [
    {
     "name": "stdout",
     "output_type": "stream",
     "text": [
      "Hello, Python.\n",
      "Hi, Pyf328.\n"
     ]
    }
   ],
   "source": [
    "print(\"Hello, Python.\")\n",
    "print(\"Hi, Pyf328.\")"
   ]
  },
  {
   "cell_type": "markdown",
   "metadata": {},
   "source": [
    "## Data\n",
    "* Program $\\approx$ data (structures) + algorithms\n",
    "* First, we need to ask for couples of spaces to store data, aka **variables**."
   ]
  },
  {
   "cell_type": "markdown",
   "metadata": {},
   "source": [
    "### Variables\n",
    "* DO NOT use keywords as your variables.\n",
    "    * [List of Keywords in Python](https://www.programiz.com/python-programming/keyword-list)"
   ]
  },
  {
   "cell_type": "code",
   "execution_count": 2,
   "metadata": {},
   "outputs": [
    {
     "name": "stdout",
     "output_type": "stream",
     "text": [
      "NTU CSIE\n"
     ]
    }
   ],
   "source": [
    "college = \"NTU\"\n",
    "department = \"CSIE\"\n",
    "\n",
    "print(college, department)"
   ]
  },
  {
   "cell_type": "markdown",
   "metadata": {},
   "source": [
    "### Data types: Numbers & Texts\n",
    "* How to store data in computer?\n",
    "    * decimal numbers for human: 0-9 (Why?)\n",
    "    * binary numbers for computer: 0-1 (Why?)"
   ]
  },
  {
   "cell_type": "markdown",
   "metadata": {},
   "source": [
    "#### Texts\n",
    "* How to encode the text in binary?\n",
    "    * strings: https://docs.python.org/3/library/stdtypes.html#text-sequence-type-str\n",
    "* We treats all texts by using the data type ``str``."
   ]
  },
  {
   "cell_type": "code",
   "execution_count": 3,
   "metadata": {},
   "outputs": [
    {
     "name": "stdout",
     "output_type": "stream",
     "text": [
      "TSMC 台積電\n"
     ]
    }
   ],
   "source": [
    "stock_name1 = \"TSMC\" # text data, aka string\n",
    "stock_name2 = \"台積電\" # you can use Chinese in python; codec will be an issue when you deal with data from the real world\n",
    "\n",
    "print(stock_name1, stock_name2)"
   ]
  },
  {
   "cell_type": "markdown",
   "metadata": {},
   "source": [
    "#### Numbers\n",
    "* We have ``int`` and ``float`` for numbers."
   ]
  },
  {
   "cell_type": "code",
   "execution_count": 4,
   "metadata": {},
   "outputs": [],
   "source": [
    "stock = 2330 # this is an int.\n",
    "price = 234.5 # this is a float."
   ]
  },
  {
   "cell_type": "markdown",
   "metadata": {},
   "source": [
    "#### Arithmetic operators\n",
    "* Addition: $+$\n",
    "* Substraction: $-$\n",
    "* Multiplication: $*$\n",
    "* Division: /\n",
    "* Exponentiation: $**$\n",
    "* Quotient: //\n",
    "* Modulo: %"
   ]
  },
  {
   "cell_type": "code",
   "execution_count": 5,
   "metadata": {},
   "outputs": [
    {
     "data": {
      "text/plain": [
       "1024"
      ]
     },
     "execution_count": 5,
     "metadata": {},
     "output_type": "execute_result"
    }
   ],
   "source": [
    "2 ** 10"
   ]
  },
  {
   "cell_type": "markdown",
   "metadata": {},
   "source": [
    "#### Check the data type\n",
    "* Integers in python: https://docs.python.org/3.1/whatsnew/3.0.html#integers\n",
    "* Decimal fixed point and floating point arithmetic: https://docs.python.org/3/library/decimal.html"
   ]
  },
  {
   "cell_type": "code",
   "execution_count": 6,
   "metadata": {},
   "outputs": [
    {
     "data": {
      "text/plain": [
       "int"
      ]
     },
     "execution_count": 6,
     "metadata": {},
     "output_type": "execute_result"
    }
   ],
   "source": [
    "type(stock)"
   ]
  },
  {
   "cell_type": "code",
   "execution_count": 7,
   "metadata": {
    "scrolled": true
   },
   "outputs": [
    {
     "data": {
      "text/plain": [
       "float"
      ]
     },
     "execution_count": 7,
     "metadata": {},
     "output_type": "execute_result"
    }
   ],
   "source": [
    "type(price)"
   ]
  },
  {
   "cell_type": "markdown",
   "metadata": {},
   "source": [
    "#### Type conversion"
   ]
  },
  {
   "cell_type": "code",
   "execution_count": 8,
   "metadata": {},
   "outputs": [
    {
     "name": "stdout",
     "output_type": "stream",
     "text": [
      "2330台積電\n"
     ]
    }
   ],
   "source": [
    "full_tick = str(stock) + stock_name2 # why not simply x + stock_name2? because their data types are different!!\n",
    "print(full_tick)"
   ]
  },
  {
   "cell_type": "markdown",
   "metadata": {},
   "source": [
    "### Numerical Error\n",
    "* Causes: **finite precision** and **truncation of infinite series** (we'll see this later).\n",
    "* News: [大立光熔斷22次是電腦惹的禍，投資人可求償](https://finance.technews.tw/2017/01/10/largan-stock-trouble/), 2017.1.10\n",
    "\n",
    "搓合為避免小數點計算，價格都乘以1000，當大立光單股價格超過4000，最後會超過32位元的最大儲存極限，因此報出error"
   ]
  },
  {
   "cell_type": "code",
   "execution_count": 1,
   "metadata": {},
   "outputs": [
    {
     "data": {
      "text/plain": [
       "2.7755575615628914e-17"
      ]
     },
     "execution_count": 1,
     "metadata": {},
     "output_type": "execute_result"
    }
   ],
   "source": [
    "0.5 - 0.1 - 0.1 - 0.1 - 0.1 - 0.1\n",
    "\n",
    "#float(64bits, or 8B) int(32 bits, or 4B) --> 決定size，只能記錄有限，有些許error -->迴圈可能會放大error"
   ]
  },
  {
   "cell_type": "code",
   "execution_count": 10,
   "metadata": {},
   "outputs": [
    {
     "data": {
      "text/plain": [
       "0.09999999999999998"
      ]
     },
     "execution_count": 10,
     "metadata": {},
     "output_type": "execute_result"
    }
   ],
   "source": [
    "0.3 - 0.2"
   ]
  },
  {
   "cell_type": "code",
   "execution_count": 11,
   "metadata": {},
   "outputs": [
    {
     "data": {
      "text/plain": [
       "0.0"
      ]
     },
     "execution_count": 11,
     "metadata": {},
     "output_type": "execute_result"
    }
   ],
   "source": [
    "3.14 + 1e20 - 1e20     #不可忽略的error"
   ]
  },
  {
   "cell_type": "code",
   "execution_count": 12,
   "metadata": {},
   "outputs": [
    {
     "data": {
      "text/plain": [
       "4.0"
      ]
     },
     "execution_count": 12,
     "metadata": {},
     "output_type": "execute_result"
    }
   ],
   "source": [
    "3.14 + 1e16 - 1e16"
   ]
  },
  {
   "cell_type": "markdown",
   "metadata": {},
   "source": [
    "### Assignment Operator feat. Computation Model"
   ]
  },
  {
   "cell_type": "code",
   "execution_count": 13,
   "metadata": {},
   "outputs": [
    {
     "name": "stdout",
     "output_type": "stream",
     "text": [
      "2\n"
     ]
    }
   ],
   "source": [
    "x = 1\n",
    "y = x + 1\n",
    "print(y)        #\"累積\"報酬   \"複利運算 y=value(1+r)*6"
   ]
  },
  {
   "cell_type": "code",
   "execution_count": 14,
   "metadata": {},
   "outputs": [
    {
     "name": "stdout",
     "output_type": "stream",
     "text": [
      "2\n"
     ]
    }
   ],
   "source": [
    "x = x + 1 # Is that weird to you?\n",
    "print(x)"
   ]
  },
  {
   "cell_type": "markdown",
   "metadata": {},
   "source": [
    "## Most Basic Data Structure: List\n",
    "* How to maintain a collection of data?"
   ]
  },
  {
   "cell_type": "code",
   "execution_count": 15,
   "metadata": {},
   "outputs": [
    {
     "name": "stdout",
     "output_type": "stream",
     "text": [
      "['2330', '2892', '1101']\n"
     ]
    }
   ],
   "source": [
    "stock_pool = [\"2330\", \"2892\", \"1101\"]\n",
    "\n",
    "print(stock_pool)"
   ]
  },
  {
   "cell_type": "code",
   "execution_count": 16,
   "metadata": {},
   "outputs": [
    {
     "name": "stdout",
     "output_type": "stream",
     "text": [
      "['2330', '2892', '1101', '2317']\n"
     ]
    }
   ],
   "source": [
    "stock_pool = stock_pool + [\"2317\"]\n",
    "\n",
    "print(stock_pool)"
   ]
  },
  {
   "cell_type": "markdown",
   "metadata": {},
   "source": [
    "### Slicing\n",
    "* Syntax \n",
    "```python\n",
    "start_idx : terminal_idx (exclusive) : steps\n",
    "```\n",
    "\n",
    "full_tick = 2330台積電"
   ]
  },
  {
   "cell_type": "code",
   "execution_count": 17,
   "metadata": {},
   "outputs": [
    {
     "name": "stdout",
     "output_type": "stream",
     "text": [
      "2\n"
     ]
    }
   ],
   "source": [
    "print(full_tick[0]) \n",
    "\n",
    "# string acts like a list\n",
    "# X = [1,2,3]\n",
    "#程式執行時，data存在Memory，memory依序存Lists的elements，X存在其他地方\n",
    "#X要reference一個陣列的起始值，shift的距離即是index。A作為開頭X 所 refer的位移量=0"
   ]
  },
  {
   "cell_type": "code",
   "execution_count": 18,
   "metadata": {},
   "outputs": [
    {
     "name": "stdout",
     "output_type": "stream",
     "text": [
      "2330\n"
     ]
    }
   ],
   "source": [
    "print(full_tick[0 : 4]) # slicing on lists/strings"
   ]
  },
  {
   "cell_type": "code",
   "execution_count": 19,
   "metadata": {},
   "outputs": [
    {
     "name": "stdout",
     "output_type": "stream",
     "text": [
      "台積電\n"
     ]
    }
   ],
   "source": [
    "print(full_tick[-3 : ]) # more tricks on slicing"
   ]
  },
  {
   "cell_type": "code",
   "execution_count": 20,
   "metadata": {},
   "outputs": [
    {
     "name": "stdout",
     "output_type": "stream",
     "text": [
      "23\n"
     ]
    }
   ],
   "source": [
    "print(full_tick[0 : 3 : 2])"
   ]
  },
  {
   "cell_type": "code",
   "execution_count": 21,
   "metadata": {},
   "outputs": [
    {
     "name": "stdout",
     "output_type": "stream",
     "text": [
      ".csv\n",
      "vsc.CMST\n"
     ]
    }
   ],
   "source": [
    "stock_file = \"TSMC.csv\"\n",
    "print(stock_file[-4:])\n",
    "print(stock_file[::-1])   #逆向查找"
   ]
  },
  {
   "cell_type": "markdown",
   "metadata": {},
   "source": [
    "### APIs of Lists"
   ]
  },
  {
   "cell_type": "code",
   "execution_count": 22,
   "metadata": {},
   "outputs": [
    {
     "name": "stdout",
     "output_type": "stream",
     "text": [
      "['2330', '2892', '1101', '2317', '9958']\n"
     ]
    }
   ],
   "source": [
    "stock_pool.append(\"9958\") # add one element appending to stock_pool; equivalent to +\n",
    "print(stock_pool)"
   ]
  },
  {
   "cell_type": "code",
   "execution_count": 23,
   "metadata": {},
   "outputs": [
    {
     "name": "stdout",
     "output_type": "stream",
     "text": [
      "Help on class list in module builtins:\n",
      "\n",
      "class list(object)\n",
      " |  list() -> new empty list\n",
      " |  list(iterable) -> new list initialized from iterable's items\n",
      " |  \n",
      " |  Methods defined here:\n",
      " |  \n",
      " |  __add__(self, value, /)\n",
      " |      Return self+value.\n",
      " |  \n",
      " |  __contains__(self, key, /)\n",
      " |      Return key in self.\n",
      " |  \n",
      " |  __delitem__(self, key, /)\n",
      " |      Delete self[key].\n",
      " |  \n",
      " |  __eq__(self, value, /)\n",
      " |      Return self==value.\n",
      " |  \n",
      " |  __ge__(self, value, /)\n",
      " |      Return self>=value.\n",
      " |  \n",
      " |  __getattribute__(self, name, /)\n",
      " |      Return getattr(self, name).\n",
      " |  \n",
      " |  __getitem__(...)\n",
      " |      x.__getitem__(y) <==> x[y]\n",
      " |  \n",
      " |  __gt__(self, value, /)\n",
      " |      Return self>value.\n",
      " |  \n",
      " |  __iadd__(self, value, /)\n",
      " |      Implement self+=value.\n",
      " |  \n",
      " |  __imul__(self, value, /)\n",
      " |      Implement self*=value.\n",
      " |  \n",
      " |  __init__(self, /, *args, **kwargs)\n",
      " |      Initialize self.  See help(type(self)) for accurate signature.\n",
      " |  \n",
      " |  __iter__(self, /)\n",
      " |      Implement iter(self).\n",
      " |  \n",
      " |  __le__(self, value, /)\n",
      " |      Return self<=value.\n",
      " |  \n",
      " |  __len__(self, /)\n",
      " |      Return len(self).\n",
      " |  \n",
      " |  __lt__(self, value, /)\n",
      " |      Return self<value.\n",
      " |  \n",
      " |  __mul__(self, value, /)\n",
      " |      Return self*value.n\n",
      " |  \n",
      " |  __ne__(self, value, /)\n",
      " |      Return self!=value.\n",
      " |  \n",
      " |  __new__(*args, **kwargs) from builtins.type\n",
      " |      Create and return a new object.  See help(type) for accurate signature.\n",
      " |  \n",
      " |  __repr__(self, /)\n",
      " |      Return repr(self).\n",
      " |  \n",
      " |  __reversed__(...)\n",
      " |      L.__reversed__() -- return a reverse iterator over the list\n",
      " |  \n",
      " |  __rmul__(self, value, /)\n",
      " |      Return self*value.\n",
      " |  \n",
      " |  __setitem__(self, key, value, /)\n",
      " |      Set self[key] to value.\n",
      " |  \n",
      " |  __sizeof__(...)\n",
      " |      L.__sizeof__() -- size of L in memory, in bytes\n",
      " |  \n",
      " |  append(...)\n",
      " |      L.append(object) -> None -- append object to end\n",
      " |  \n",
      " |  clear(...)\n",
      " |      L.clear() -> None -- remove all items from L\n",
      " |  \n",
      " |  copy(...)\n",
      " |      L.copy() -> list -- a shallow copy of L\n",
      " |  \n",
      " |  count(...)\n",
      " |      L.count(value) -> integer -- return number of occurrences of value\n",
      " |  \n",
      " |  extend(...)\n",
      " |      L.extend(iterable) -> None -- extend list by appending elements from the iterable\n",
      " |  \n",
      " |  index(...)\n",
      " |      L.index(value, [start, [stop]]) -> integer -- return first index of value.\n",
      " |      Raises ValueError if the value is not present.\n",
      " |  \n",
      " |  insert(...)\n",
      " |      L.insert(index, object) -- insert object before index\n",
      " |  \n",
      " |  pop(...)\n",
      " |      L.pop([index]) -> item -- remove and return item at index (default last).\n",
      " |      Raises IndexError if list is empty or index is out of range.\n",
      " |  \n",
      " |  remove(...)\n",
      " |      L.remove(value) -> None -- remove first occurrence of value.\n",
      " |      Raises ValueError if the value is not present.\n",
      " |  \n",
      " |  reverse(...)\n",
      " |      L.reverse() -- reverse *IN PLACE*\n",
      " |  \n",
      " |  sort(...)\n",
      " |      L.sort(key=None, reverse=False) -> None -- stable sort *IN PLACE*\n",
      " |  \n",
      " |  ----------------------------------------------------------------------\n",
      " |  Data and other attributes defined here:\n",
      " |  \n",
      " |  __hash__ = None\n",
      "\n"
     ]
    }
   ],
   "source": [
    "help(list) # help yourself. you need to learn API by RTFM\n",
    "#X.endswith?"
   ]
  },
  {
   "cell_type": "code",
   "execution_count": 24,
   "metadata": {
    "scrolled": true
   },
   "outputs": [
    {
     "name": "stdout",
     "output_type": "stream",
     "text": [
      "5\n"
     ]
    }
   ],
   "source": [
    "print(len(stock_pool)) # len(): return the number of elements in stock_pool"
   ]
  },
  {
   "cell_type": "markdown",
   "metadata": {},
   "source": [
    "#### Sorted list"
   ]
  },
  {
   "cell_type": "code",
   "execution_count": 25,
   "metadata": {},
   "outputs": [
    {
     "name": "stdout",
     "output_type": "stream",
     "text": [
      "Before sorted: [30, 20]\n",
      "After sorted: [20, 30]\n"
     ]
    }
   ],
   "source": [
    "prices = [30, 20]\n",
    "print(\"Before sorted:\", prices)\n",
    "prices.sort()\n",
    "print(\"After sorted:\", prices)"
   ]
  },
  {
   "cell_type": "code",
   "execution_count": 26,
   "metadata": {},
   "outputs": [
    {
     "name": "stdout",
     "output_type": "stream",
     "text": [
      "['1101', '2317', '2330', '2892', '9958']\n"
     ]
    }
   ],
   "source": [
    "stock_pool.sort()\n",
    "print(stock_pool)"
   ]
  },
  {
   "cell_type": "markdown",
   "metadata": {},
   "source": [
    "#### Membership: in"
   ]
  },
  {
   "cell_type": "code",
   "execution_count": 27,
   "metadata": {},
   "outputs": [
    {
     "name": "stdout",
     "output_type": "stream",
     "text": [
      "True\n"
     ]
    }
   ],
   "source": [
    "query = \"2330\"\n",
    "print(query in stock_pool) # use in to check the membership; useful"
   ]
  },
  {
   "cell_type": "code",
   "execution_count": 28,
   "metadata": {},
   "outputs": [
    {
     "name": "stdout",
     "output_type": "stream",
     "text": [
      "False\n"
     ]
    }
   ],
   "source": [
    "print(\"Pyo\" in \"Python\") # \"Pyo\" is a single entity"
   ]
  },
  {
   "cell_type": "code",
   "execution_count": 29,
   "metadata": {},
   "outputs": [
    {
     "name": "stdout",
     "output_type": "stream",
     "text": [
      "Enter a stock? 2330\n",
      "True\n"
     ]
    }
   ],
   "source": [
    "target_stock = input(\"Enter a stock? \") # input takes everything as a string\n",
    "print(target_stock in stock_pool)"
   ]
  },
  {
   "cell_type": "code",
   "execution_count": 30,
   "metadata": {
    "scrolled": true
   },
   "outputs": [
    {
     "name": "stdout",
     "output_type": "stream",
     "text": [
      "Enter share volumes? 1000\n",
      "You need 230000 TWD.\n"
     ]
    }
   ],
   "source": [
    "price = 230\n",
    "volume = input(\"Enter share volumes? \")\n",
    "total = price * int(volume)\n",
    "print(\"You need\", str(total), \"TWD.\")"
   ]
  },
  {
   "cell_type": "markdown",
   "metadata": {},
   "source": [
    "## Conditional Statements"
   ]
  },
  {
   "cell_type": "markdown",
   "metadata": {},
   "source": [
    "### Rational Operators & Logical Operators\n",
    "* greater than: $>$\n",
    "* less than: $<$\n",
    "* equal to: $==$\n",
    "* and, or"
   ]
  },
  {
   "cell_type": "markdown",
   "metadata": {},
   "source": [
    "### Syntax 1\n",
    "```python\n",
    "if condition:\n",
    "    actions\n",
    "```"
   ]
  },
  {
   "cell_type": "code",
   "execution_count": 31,
   "metadata": {},
   "outputs": [
    {
     "name": "stdout",
     "output_type": "stream",
     "text": [
      "Pass!\n"
     ]
    }
   ],
   "source": [
    "x = 75\n",
    "\n",
    "if x >= 60:\n",
    "    print(\"Pass!\")"
   ]
  },
  {
   "cell_type": "markdown",
   "metadata": {},
   "source": [
    "### Syntax 2: two-way\n",
    "```python\n",
    "if condition:\n",
    "    actions\n",
    "else:\n",
    "    actions\n",
    "```"
   ]
  },
  {
   "cell_type": "code",
   "execution_count": 32,
   "metadata": {},
   "outputs": [
    {
     "name": "stdout",
     "output_type": "stream",
     "text": [
      "Enter cash? 300000\n",
      "You got 1000 shares of 2330.\n",
      "Bye.\n"
     ]
    }
   ],
   "source": [
    "cash = int(input(\"Enter cash? \"))\n",
    "\n",
    "if cash >= total:\n",
    "    print(\"You got\", volume, \"shares of 2330.\") # conditional statement\n",
    "else:\n",
    "    print(\"Your cash is not enough.\") # conditional statement\n",
    "print(\"Bye.\") # unconditional statement"
   ]
  },
  {
   "cell_type": "markdown",
   "metadata": {},
   "source": [
    "### Syntax 3: multi-way selection\n",
    "```python\n",
    "if condition:\n",
    "    actions\n",
    "elif condition:\n",
    "    actions\n",
    "else:\n",
    "    actions\n",
    "```"
   ]
  },
  {
   "cell_type": "code",
   "execution_count": 33,
   "metadata": {},
   "outputs": [
    {
     "name": "stdout",
     "output_type": "stream",
     "text": [
      "B\n"
     ]
    }
   ],
   "source": [
    "score = 85\n",
    "if 90 <= score <= 100:\n",
    "    print(\"A\")\n",
    "elif 80 <= score < 90:\n",
    "    print(\"B\")\n",
    "elif 70 <= score < 80:\n",
    "    print(\"C\")\n",
    "elif 60 <= score < 70:\n",
    "    print(\"D\")\n",
    "else:\n",
    "    print(\"F\")"
   ]
  },
  {
   "cell_type": "markdown",
   "metadata": {},
   "source": [
    "## Loops"
   ]
  },
  {
   "cell_type": "markdown",
   "metadata": {},
   "source": [
    "### For Loops\n",
    "* For the cases of knowing data size or number of iteration, we may use for loops.\n",
    "* To specify the certain number of iterations, use **range(stop)** or **range(start, stop[, step])** where *stop* is exclusive.\n",
    "* (FYR) Try this game: [celebrating 50 years of kids coding by Google](https://www.google.com/doodles/celebrating-50-years-of-kids-coding)."
   ]
  },
  {
   "cell_type": "code",
   "execution_count": 34,
   "metadata": {},
   "outputs": [
    {
     "name": "stdout",
     "output_type": "stream",
     "text": [
      "0\n",
      "1\n",
      "2\n",
      "3\n",
      "4\n",
      "5\n"
     ]
    }
   ],
   "source": [
    "for x in range(6):   #0-6的range範圍，無已知資料結構\n",
    "    print(x)"
   ]
  },
  {
   "cell_type": "code",
   "execution_count": 35,
   "metadata": {},
   "outputs": [
    {
     "name": "stdout",
     "output_type": "stream",
     "text": [
      "1\n",
      "3\n",
      "5\n"
     ]
    }
   ],
   "source": [
    "for x in range(1, 6, 2):\n",
    "    print(x)"
   ]
  },
  {
   "cell_type": "code",
   "execution_count": 36,
   "metadata": {},
   "outputs": [
    {
     "name": "stdout",
     "output_type": "stream",
     "text": [
      "1101\n",
      "2317\n",
      "2330\n",
      "2892\n",
      "9958\n"
     ]
    }
   ],
   "source": [
    "for stock in stock_pool: # equivalent to print(stock_pool); you don't need to do this way in python #已知資料結構\n",
    "    print(stock)"
   ]
  },
  {
   "cell_type": "code",
   "execution_count": 37,
   "metadata": {},
   "outputs": [
    {
     "name": "stdout",
     "output_type": "stream",
     "text": [
      "1101\n",
      "2317\n",
      "2330\n",
      "2892\n",
      "9958\n"
     ]
    }
   ],
   "source": [
    "for idx in range(len(stock_pool)): # old-school style\n",
    "    print(stock_pool[idx])"
   ]
  },
  {
   "cell_type": "markdown",
   "metadata": {},
   "source": [
    "#### Exercise: Estimating $\\pi$ by Monte Carlo (MC) simulation\n",
    "* The MC algorithm is as follows:\n",
    "    * Set the number of samples $N = $1e5 and the number of points falling in the quarter circle $M = 0$.\n",
    "    * For each sample, use random.uniform(0, 1) to generate a sample point within a unit square.\n",
    "    * If this point falls in the quarter circle, then $M = M + 1$.\n",
    "    * Calculate the estimator $\\hat{\\pi} = \\dfrac{4 \\times M}{N}$, which is approaching the true value $\\pi$ as $N \\rightarrow \\infty$ (check the law of large number, LLN).\n",
    "![](https://upload.wikimedia.org/wikipedia/commons/thumb/8/84/Pi_30K.gif/220px-Pi_30K.gif)"
   ]
  },
  {
   "cell_type": "code",
   "execution_count": 3,
   "metadata": {},
   "outputs": [
    {
     "name": "stdout",
     "output_type": "stream",
     "text": [
      "3.14048\n"
     ]
    }
   ],
   "source": [
    "import random\n",
    "\n",
    "N = 100000\n",
    "m = 0\n",
    "\n",
    "for i in range(N):\n",
    "    \n",
    "    x = random.uniform(0, 1)\n",
    "    y = random.uniform(0, 1)    # 均勻分配\n",
    "    \n",
    "    if x * x + y * y < 1:       # X^2 + Y^2 < 1 圓以內   =1 圈上\n",
    "        m = m + 1\n",
    "\n",
    "print(4 * m / N)"
   ]
  },
  {
   "cell_type": "markdown",
   "metadata": {},
   "source": [
    "* We use the module `tqdm` to indicate the simulation progress."
   ]
  },
  {
   "cell_type": "code",
   "execution_count": 39,
   "metadata": {},
   "outputs": [
    {
     "name": "stdout",
     "output_type": "stream",
     "text": [
      "Requirement already satisfied: tqdm in c:\\programdata\\anaconda3\\lib\\site-packages (4.32.1)\n"
     ]
    },
    {
     "name": "stderr",
     "output_type": "stream",
     "text": [
      "WARNING: You are using pip version 19.2.3, however version 20.0.2 is available.\n",
      "You should consider upgrading via the 'python -m pip install --upgrade pip' command.\n"
     ]
    }
   ],
   "source": [
    "!pip install tqdm    #進度條套件"
   ]
  },
  {
   "cell_type": "code",
   "execution_count": 40,
   "metadata": {},
   "outputs": [
    {
     "name": "stderr",
     "output_type": "stream",
     "text": [
      "100%|████████████████████████████| 1000000/1000000 [00:02<00:00, 428578.23it/s]\n"
     ]
    },
    {
     "name": "stdout",
     "output_type": "stream",
     "text": [
      "pi ~ 3.141576\n"
     ]
    }
   ],
   "source": [
    "import random # using another library\n",
    "from tqdm import tqdm\n",
    "\n",
    "N = 1000000\n",
    "m = 0\n",
    "\n",
    "for _ in tqdm(range(N)):\n",
    "    \n",
    "    x = random.uniform(0, 1)\n",
    "    y = random.uniform(0, 1)\n",
    "    \n",
    "    if x ** 2 + y ** 2 < 1:\n",
    "        m += 1 # this is equivalent to m = m + 1\n",
    "\n",
    "print(\"pi ~\", 4 * m / N)"
   ]
  },
  {
   "cell_type": "markdown",
   "metadata": {},
   "source": [
    "### While loop 事件型迴圈\n",
    "* Compared to for loops, you may use while loops for the cases when the number of iteration is unknown:\n",
    "    * For example, most ``numerical methods``."
   ]
  },
  {
   "cell_type": "markdown",
   "metadata": {},
   "source": [
    "#### Example: <a href = \"https://en.wikipedia.org/wiki/Bisection_method\">Bisection method</a>\n",
    "* This algorithm is used to find a root of math functions when the ``initial search interval`` is given and the ``error tolerance`` is preset.\n",
    "* We will apply this root-finding algorithm to the implied volatility later.\n",
    "* If you cannot imagine how the algorithm goes, try this <a href = \"https://www.funbrain.com/games/guess-the-number\">game</a>.\n",
    "<p><a href=\"https://commons.wikimedia.org/wiki/File:Bisection_method.svg#/media/File:Bisection_method.svg\"><img src=\"https://upload.wikimedia.org/wikipedia/commons/8/8c/Bisection_method.svg\" alt=\"Bisection method.svg\" height=\"480\" width=\"412\"></a><br>By <a class=\"mw-selflink selflink\">Bisection_method.svg</a>: Tokuchan\n",
    "derivative work: <a href=\"//commons.wikimedia.org/w/index.php?title=User:Tokuchan&amp;action=edit&amp;redlink=1\" class=\"new\" title=\"User:Tokuchan (page does not exist)\">Tokuchan</a> (<a href=\"//commons.wikimedia.org/w/index.php?title=User_talk:Tokuchan&amp;action=edit&amp;redlink=1\" class=\"new\" title=\"User talk:Tokuchan (page does not exist)\"><span class=\"signature-talk\">talk</span></a>) - <a class=\"mw-selflink selflink\">Bisection_method.svg</a>, <a href=\"http://creativecommons.org/licenses/by-sa/3.0/\" title=\"Creative Commons Attribution-Share Alike 3.0\">CC BY-SA 3.0</a>, <a href=\"https://commons.wikimedia.org/w/index.php?curid=9382140\">Link</a></p>"
   ]
  },
  {
   "cell_type": "markdown",
   "metadata": {},
   "source": [
    "分割法速度很快，尤其是處理Log問題。 目的:找尋answer，但不可能用無限找尋，因此用容忍誤差縮短找尋次數\n",
    "\n",
    "a1=fa b1=fb1 c=中間值\n",
    "\n",
    "找根常見金融問題: 選擇權找sigma (implied volatility)  C-f(S, X, r, sigma, r, sigma T)=0"
   ]
  },
  {
   "cell_type": "code",
   "execution_count": 41,
   "metadata": {},
   "outputs": [
    {
     "name": "stdout",
     "output_type": "stream",
     "text": [
      "root ~ 1.5213797068572603\n",
      "residual =  3.131943593359665e-10\n"
     ]
    }
   ],
   "source": [
    "# target function: x ** 3 - x - 2\n",
    "\n",
    "a = 1 # lower bound of search interval\n",
    "b = 2 # upper bound of search interval\n",
    "eps = 1e-10 # tolerance  容忍範圍\n",
    "\n",
    "while b - a > eps: #反覆對切，當大於誤差時，持續運作直到條件不成立\n",
    "    c = (a + b) / 2 # find the middle between a and b\n",
    "    \n",
    "    fa = a ** 3 - a - 2\n",
    "    fb = b ** 3 - b - 2\n",
    "    fc = c ** 3 - c - 2\n",
    "\n",
    "    # if (fa > 0 and fc < 0) or (fa < 0 and fc > 0):\n",
    "    if fa * fc < 0:\n",
    "        b = c # update b since the root is located in the left region \n",
    "    else:\n",
    "        a = c # update a since the root is located in the right region\n",
    "\n",
    "print(\"root ~\", c)\n",
    "print(\"residual = \", c ** 3 - c - 2)\n"
   ]
  },
  {
   "cell_type": "markdown",
   "metadata": {},
   "source": [
    "#### Exercise: estimate the Euler constant by Monte Carlo simulation     由拉常數"
   ]
  },
  {
   "cell_type": "code",
   "execution_count": 42,
   "metadata": {},
   "outputs": [
    {
     "name": "stdout",
     "output_type": "stream",
     "text": [
      "e ~ 2.71285\n"
     ]
    }
   ],
   "source": [
    "import random\n",
    "\n",
    "N = 100000\n",
    "m = 0\n",
    "\n",
    "for _ in range(N):\n",
    "    \n",
    "    s = 0;\n",
    "    n = 0;\n",
    "    while s < 1:\n",
    "        s = s + random.uniform(0, 1)\n",
    "        n = n + 1\n",
    "        \n",
    "    m = m + n\n",
    "\n",
    "print('e ~', m / N)"
   ]
  },
  {
   "cell_type": "code",
   "execution_count": null,
   "metadata": {},
   "outputs": [],
   "source": []
  }
 ],
 "metadata": {
  "kernelspec": {
   "display_name": "Python 3",
   "language": "python",
   "name": "python3"
  },
  "language_info": {
   "codemirror_mode": {
    "name": "ipython",
    "version": 3
   },
   "file_extension": ".py",
   "mimetype": "text/x-python",
   "name": "python",
   "nbconvert_exporter": "python",
   "pygments_lexer": "ipython3",
   "version": "3.7.6"
  }
 },
 "nbformat": 4,
 "nbformat_minor": 2
}

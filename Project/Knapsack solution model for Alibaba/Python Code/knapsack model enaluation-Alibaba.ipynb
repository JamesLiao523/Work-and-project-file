{
 "cells": [
  {
   "cell_type": "markdown",
   "metadata": {},
   "source": [
    "# Evaluating the Solutions for the Logistic Problem in Alibaba"
   ]
  },
  {
   "cell_type": "markdown",
   "metadata": {},
   "source": [
    "Note:Please make sure that you are using unique codes because this problem is different with previous midterm projects. "
   ]
  },
  {
   "cell_type": "markdown",
   "metadata": {},
   "source": [
    "### First lets generate the 300 random knapsack sizes and write the results to a csv"
   ]
  },
  {
   "cell_type": "code",
   "execution_count": 2,
   "metadata": {},
   "outputs": [],
   "source": [
    "import numpy as np\n",
    "\n",
    "\n",
    "'''you will generate 300 capacities for each instance. It will be between 100-160. You will use normal distribution as mean:130 and standart deviation:30'''\n",
    "\n",
    "f = open(\"Knap_Sizes.csv\", \"w\") # We will create this file.\n",
    "\n",
    "...\n",
    "    \n",
    "f.close()"
   ]
  },
  {
   "cell_type": "markdown",
   "metadata": {},
   "source": [
    "### Last, let us evaluate the solution file based on the randomly generated knapsack sizes. "
   ]
  },
  {
   "cell_type": "code",
   "execution_count": null,
   "metadata": {},
   "outputs": [],
   "source": [
    "submitted_file_path = \"test_knapsack_solution.csv\"\n",
    "\n",
    "def Evaluate_Sol(file_path):\n",
    "\n",
    "    ...\n",
    "    \n",
    "    \n",
    "    \n",
    "    \n",
    "    \n",
    "    \n",
    "    ''' we have 300 instances and one instance has 3 rows on the dataset. So, we will iterate for 900'''\n",
    "    for i in range(0,900,3):\n",
    "\n",
    "        ...\n",
    "        \n",
    "        \n",
    "        \n",
    "        \n",
    "        \n",
    "        \n",
    "        \n",
    "    '''Make sure that you are using monte carlo simulation and the best instance. It means that you are showing the avarage values of instances because 300 times you store the items to warehouse. '''      \n",
    "        \n",
    "        if total_size <= C: \n",
    "            current_obj+=total_reward\n",
    "    return {student_id: current_obj}\n",
    "\n",
    "\n",
    "final_results = Evaluate_Sol(submitted_file_path)\n",
    "final_results"
   ]
  },
  {
   "cell_type": "markdown",
   "metadata": {},
   "source": [
    "Note: This result could be change for each group because we are using random numbers. But, the results are supposed to be different and in an acceptable range. "
   ]
  },
  {
   "cell_type": "markdown",
   "metadata": {},
   "source": [
    "Note: Please submit all files (Knap_Sizes, test_knapsack_solution, and Evaluation.ipynp files) as one zip file on the canvas. Please add IDs on the zip file. For example, 14325_34672_12345.zip"
   ]
  }
 ],
 "metadata": {
  "kernelspec": {
   "display_name": "Python 3",
   "language": "python",
   "name": "python3"
  },
  "language_info": {
   "codemirror_mode": {
    "name": "ipython",
    "version": 3
   },
   "file_extension": ".py",
   "mimetype": "text/x-python",
   "name": "python",
   "nbconvert_exporter": "python",
   "pygments_lexer": "ipython3",
   "version": "3.8.3"
  },
  "toc": {
   "nav_menu": {
    "height": "30px",
    "width": "252px"
   },
   "number_sections": true,
   "sideBar": true,
   "skip_h1_title": false,
   "toc_cell": false,
   "toc_position": {},
   "toc_section_display": "block",
   "toc_window_display": false
  }
 },
 "nbformat": 4,
 "nbformat_minor": 2
}

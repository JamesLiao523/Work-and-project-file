{
 "cells": [
  {
   "cell_type": "markdown",
   "metadata": {},
   "source": [
    "### Import Modules"
   ]
  },
  {
   "cell_type": "code",
   "execution_count": 1,
   "metadata": {},
   "outputs": [],
   "source": [
    "from itertools import combinations\n",
    "import ffn\n",
    "import warnings\n",
    "import numpy as np\n",
    "import pandas as pd\n",
    "warnings.filterwarnings(\"ignore\")\n",
    "import csv\n",
    "import time\n",
    "import sys"
   ]
  },
  {
   "cell_type": "markdown",
   "metadata": {},
   "source": [
    "### Set dates"
   ]
  },
  {
   "cell_type": "code",
   "execution_count": 2,
   "metadata": {},
   "outputs": [],
   "source": [
    "start_date = \"2015-2-10\"    #輸入開始日期\n",
    "end_date = \"2021-02-10\"     #輸入結束日期"
   ]
  },
  {
   "cell_type": "markdown",
   "metadata": {},
   "source": [
    "### Start Backtesting"
   ]
  },
  {
   "cell_type": "code",
   "execution_count": null,
   "metadata": {},
   "outputs": [
    {
     "name": "stdout",
     "output_type": "stream",
     "text": [
      "目前進度: ('NFLX', 'NVDA', 'BABA', 'BIDU', 'TWTR', 'TSLA', 'AAPL', 'AMZN', 'ENPH', 'FB', 'FSLR', 'JNJ', 'JPM', 'V', 'HD', 'MA', 'CRM', 'ADBE', 'DIS', 'CMCSA'), 目前組合數8==D----20                "
     ]
    }
   ],
   "source": [
    "ticker_lists = \"NFLX,NVDA,BABA,BIDU,TWTR,TSLA,AAPL,AMZN,ENPH,FB,GOOG,FSLR,SEDG,MSFT,BRK-B,JNJ,JPM,V,HD,MA,PYPL,VZ,CRM,ADBE,DIS,CMCSA\"   #輸入標的代號\n",
    "ranges = ticker_lists.split(\",\")\n",
    "transferlist = []\n",
    "total_results = pd.DataFrame()\n",
    "\n",
    "        \n",
    "for i in range(20,len(ranges)+1):\n",
    "    \n",
    "    for c in combinations(ranges,i):\n",
    "        transferlist = [e for e in c]\n",
    "        portfolio = ffn.get(transferlist, start = start_date, end = end_date)\n",
    "        portfolio_stats = portfolio.calc_stats()\n",
    "        E_cal_table = portfolio_stats.stats.loc[[\"start\", \"end\", \"one_year\",  \"avg_drawdown\", \"yearly_vol\"], :]\n",
    "        E_cal_table = E_cal_table.T\n",
    "\n",
    "        E_cal_weights = 1/len(ranges)\n",
    "        E_cal_table[\"weight\"]= E_cal_weights\n",
    "        E_cal_table = E_cal_table.T\n",
    "\n",
    "\n",
    "        E_results = portfolio_stats.stats.iloc[0:0,0]\n",
    "        E_results = pd.DataFrame(E_results)\n",
    "        E_results.columns=[\"Equal-weighted\"]\n",
    "        E_results = E_results.T\n",
    "        \n",
    "        \n",
    "        E_results[\"Ticker\"]= \",\".join(transferlist)\n",
    "        E_results[\"one_year\"] = sum(E_cal_table.xs(\"one_year\") * E_cal_table.xs(\"weight\"))        \n",
    "        E_results[\"avg_drawdown\"] = sum(E_cal_table.xs(\"avg_drawdown\") * E_cal_table.xs(\"weight\"))\n",
    "        E_results[\"yearly_vol\"] = sum(E_cal_table.xs(\"yearly_vol\") * E_cal_table.xs(\"weight\"))\n",
    "        \n",
    "        total_results = total_results.append(E_results)\n",
    "\n",
    "        \n",
    "        print(\"\\r\", end=\"\")\n",
    "        print(\"目前進度: {}, 目前組合數8==D----{}\".format(c, i), end=\"      \")\n",
    "        \n",
    "    \n",
    "        sys.stdout.flush()\n",
    "        time.sleep(0.01)\n",
    "              \n",
    "        "
   ]
  },
  {
   "cell_type": "markdown",
   "metadata": {},
   "source": [
    "### Export CSV"
   ]
  },
  {
   "cell_type": "code",
   "execution_count": null,
   "metadata": {},
   "outputs": [],
   "source": [
    "total_results.to_csv(\"rolling_results.csv\") "
   ]
  }
 ],
 "metadata": {
  "kernelspec": {
   "display_name": "Python 3",
   "language": "python",
   "name": "python3"
  },
  "language_info": {
   "codemirror_mode": {
    "name": "ipython",
    "version": 3
   },
   "file_extension": ".py",
   "mimetype": "text/x-python",
   "name": "python",
   "nbconvert_exporter": "python",
   "pygments_lexer": "ipython3",
   "version": "3.8.5"
  }
 },
 "nbformat": 4,
 "nbformat_minor": 4
}

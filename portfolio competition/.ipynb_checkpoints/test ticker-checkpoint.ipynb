{
 "cells": [
  {
   "cell_type": "code",
   "execution_count": 13,
   "metadata": {},
   "outputs": [],
   "source": [
    "from itertools import combinations\n",
    "import ffn\n",
    "import warnings\n",
    "import numpy as np\n",
    "import pandas as pd\n",
    "warnings.filterwarnings(\"ignore\")\n",
    "import csv\n"
   ]
  },
  {
   "cell_type": "code",
   "execution_count": 14,
   "metadata": {},
   "outputs": [],
   "source": [
    "import time\n",
    "import sys\n"
   ]
  },
  {
   "cell_type": "code",
   "execution_count": 15,
   "metadata": {},
   "outputs": [],
   "source": [
    "start_date = \"2015-2-10\"    #輸入開始日期\n",
    "end_date = \"2021-02-10\"     #輸入結束日期"
   ]
  },
  {
   "cell_type": "code",
   "execution_count": 18,
   "metadata": {},
   "outputs": [
    {
     "name": "stdout",
     "output_type": "stream",
     "text": [
      "目前進度: 26筆, 目前組合數8==D----5      "
     ]
    }
   ],
   "source": [
    "ticker_lists = \"BIDU,TWTR,MSFT,TSLA,AMZN\"    #輸入標的代號\n",
    "ranges = ticker_lists.split(\",\")\n",
    "transferlist = []\n",
    "total_results = pd.DataFrame()\n",
    "count = 0\n",
    "\n",
    "for i in range(2,len(ranges)+1):\n",
    "    \n",
    "    for c in combinations(ranges,i):\n",
    "        transferlist = [e for e in c]\n",
    "        count+=1\n",
    "        print(\"\\r\", end=\"\")\n",
    "        print(\"目前進度: {}筆, 目前組合數8==D----{}\".format(count, i), end=\"      \")\n",
    "        \n",
    "    \n",
    "        sys.stdout.flush()\n",
    "        time.sleep(0.01)\n",
    "        \n",
    "        \n",
    "        \n",
    "\n"
   ]
  },
  {
   "cell_type": "code",
   "execution_count": 37,
   "metadata": {},
   "outputs": [],
   "source": [
    "total_results.to_csv(\"roll_results.csv\")   "
   ]
  }
 ],
 "metadata": {
  "kernelspec": {
   "display_name": "Python 3",
   "language": "python",
   "name": "python3"
  },
  "language_info": {
   "codemirror_mode": {
    "name": "ipython",
    "version": 3
   },
   "file_extension": ".py",
   "mimetype": "text/x-python",
   "name": "python",
   "nbconvert_exporter": "python",
   "pygments_lexer": "ipython3",
   "version": "3.8.5"
  }
 },
 "nbformat": 4,
 "nbformat_minor": 4
}

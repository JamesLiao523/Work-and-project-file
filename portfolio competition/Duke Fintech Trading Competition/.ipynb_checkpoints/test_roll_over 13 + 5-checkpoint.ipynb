{
 "cells": [
  {
   "cell_type": "code",
   "execution_count": 26,
   "metadata": {},
   "outputs": [
    {
     "name": "stdout",
     "output_type": "stream",
     "text": [
      "Requirement already satisfied: numba in c:\\programdata\\anaconda3\\lib\\site-packages (0.51.2)\n",
      "Requirement already satisfied: llvmlite<0.35,>=0.34.0.dev0 in c:\\programdata\\anaconda3\\lib\\site-packages (from numba) (0.34.0)\n",
      "Requirement already satisfied: numpy>=1.15 in c:\\programdata\\anaconda3\\lib\\site-packages (from numba) (1.19.2)\n",
      "Requirement already satisfied: setuptools in c:\\programdata\\anaconda3\\lib\\site-packages (from numba) (50.3.1.post20201107)\n"
     ]
    }
   ],
   "source": [
    "! pip install numba"
   ]
  },
  {
   "cell_type": "code",
   "execution_count": 1,
   "metadata": {},
   "outputs": [],
   "source": [
    "from itertools import combinations\n",
    "import ffn\n",
    "import warnings\n",
    "import numpy as np\n",
    "import pandas as pd\n",
    "warnings.filterwarnings(\"ignore\")\n",
    "import csv\n",
    "import time\n",
    "import sys"
   ]
  },
  {
   "cell_type": "code",
   "execution_count": 2,
   "metadata": {},
   "outputs": [],
   "source": [
    "start_date = \"2018-3-23\"    #輸入開始日期\n",
    "#end_date = \"2021-02-10\"     #輸入結束日期"
   ]
  },
  {
   "cell_type": "code",
   "execution_count": 7,
   "metadata": {},
   "outputs": [
    {
     "name": "stdout",
     "output_type": "stream",
     "text": [
      "目前以寫入: 4048筆資料, 目前標的數8==D----18      "
     ]
    }
   ],
   "source": [
    "ticker_lists = \"MSFT,AAPL,AMZN,GOOG,FB\"   #輸入標的代號\n",
    "ranges = ticker_lists.split(\",\")\n",
    "transferlist = []\n",
    "total_results = pd.DataFrame()\n",
    "count = 0\n",
    "\n",
    "\n",
    "def caculating_tools():      \n",
    "    tt = time.time()\n",
    "    ticker_lists = \"NFLX,NVDA,BABA,BIDU,TWTR,TSLA,AAPL,AMZN,ENPH,FB,GOOG,FSLR,SEDG,AXP,BEN,ALXN,AMGN,ETN\"   #輸入標的代號\n",
    "    ranges = ticker_lists.split(\",\")\n",
    "    transferlist = []\n",
    "    total_results = pd.DataFrame()\n",
    "    count = 0\n",
    "    \n",
    "    for i in range(14,len(ranges)+1):\n",
    "\n",
    "        for c in combinations(ranges,i):\n",
    "            transferlist = [e for e in c]\n",
    "            portfolio = ffn.get(transferlist, start = start_date, end = end_date)\n",
    "            portfolio_stats = portfolio.calc_stats()\n",
    "            E_cal_table = portfolio_stats.stats.loc[[\"start\", \"end\", \"one_year\",  \"avg_drawdown\", \"yearly_vol\"], :]\n",
    "            E_cal_table = E_cal_table.T\n",
    "\n",
    "            E_cal_weights = 1/len(ranges)\n",
    "            E_cal_table[\"weight\"]= E_cal_weights\n",
    "            E_cal_table = E_cal_table.T\n",
    "\n",
    "\n",
    "            E_results = portfolio_stats.stats.iloc[0:0,0]\n",
    "            E_results = pd.DataFrame(E_results)\n",
    "            E_results.columns=[\"Equal-weighted\"]\n",
    "            E_results = E_results.T\n",
    "\n",
    "\n",
    "            E_results[\"Ticker\"]= \",\".join(transferlist)\n",
    "            E_results[\"one_year\"] = sum(E_cal_table.xs(\"one_year\") * E_cal_table.xs(\"weight\"))        \n",
    "            E_results[\"avg_drawdown\"] = sum(E_cal_table.xs(\"avg_drawdown\") * E_cal_table.xs(\"weight\"))\n",
    "            E_results[\"yearly_vol\"] = sum(E_cal_table.xs(\"yearly_vol\") * E_cal_table.xs(\"weight\"))\n",
    "\n",
    "            total_results = total_results.append(E_results)\n",
    "            count += 1\n",
    "\n",
    "\n",
    "            print(\"\\r\", end=\"\")\n",
    "            print(\"目前以寫入: {}筆資料, 目前標的數8==D----{}\".format(count, i), end=\"      \")\n",
    "            \n",
    "\n",
    "\n",
    "            sys.stdout.flush()\n",
    "            time.sleep(0.01)\n",
    "    total_results.to_csv(\"rolling_results  14-18 .csv\") \n",
    "    \n",
    "    \n",
    "caculating_tools()\n",
    "        \n",
    "    \n",
    "        \n",
    "       \n",
    "        \n",
    "        \n",
    "        \n",
    "\n"
   ]
  },
  {
   "cell_type": "code",
   "execution_count": 15,
   "metadata": {},
   "outputs": [
    {
     "name": "stdout",
     "output_type": "stream",
     "text": [
      "['NFLX']\n",
      "['NVDA']\n",
      "['BABA']\n",
      "['BIDU']\n",
      "['TWTR']\n",
      "['TSLA']\n",
      "['NFLX', 'NVDA']\n",
      "['NFLX', 'BABA']\n",
      "['NFLX', 'BIDU']\n",
      "['NFLX', 'TWTR']\n",
      "['NFLX', 'TSLA']\n",
      "['NVDA', 'BABA']\n",
      "['NVDA', 'BIDU']\n",
      "['NVDA', 'TWTR']\n",
      "['NVDA', 'TSLA']\n",
      "['BABA', 'BIDU']\n",
      "['BABA', 'TWTR']\n",
      "['BABA', 'TSLA']\n",
      "['BIDU', 'TWTR']\n",
      "['BIDU', 'TSLA']\n",
      "['TWTR', 'TSLA']\n",
      "['NFLX', 'NVDA', 'BABA']\n",
      "['NFLX', 'NVDA', 'BIDU']\n",
      "['NFLX', 'NVDA', 'TWTR']\n",
      "['NFLX', 'NVDA', 'TSLA']\n",
      "['NFLX', 'BABA', 'BIDU']\n",
      "['NFLX', 'BABA', 'TWTR']\n",
      "['NFLX', 'BABA', 'TSLA']\n",
      "['NFLX', 'BIDU', 'TWTR']\n",
      "['NFLX', 'BIDU', 'TSLA']\n",
      "['NFLX', 'TWTR', 'TSLA']\n",
      "['NVDA', 'BABA', 'BIDU']\n",
      "['NVDA', 'BABA', 'TWTR']\n",
      "['NVDA', 'BABA', 'TSLA']\n",
      "['NVDA', 'BIDU', 'TWTR']\n",
      "['NVDA', 'BIDU', 'TSLA']\n",
      "['NVDA', 'TWTR', 'TSLA']\n",
      "['BABA', 'BIDU', 'TWTR']\n",
      "['BABA', 'BIDU', 'TSLA']\n",
      "['BABA', 'TWTR', 'TSLA']\n",
      "['BIDU', 'TWTR', 'TSLA']\n",
      "['NFLX', 'NVDA', 'BABA', 'BIDU']\n",
      "['NFLX', 'NVDA', 'BABA', 'TWTR']\n",
      "['NFLX', 'NVDA', 'BABA', 'TSLA']\n",
      "['NFLX', 'NVDA', 'BIDU', 'TWTR']\n",
      "['NFLX', 'NVDA', 'BIDU', 'TSLA']\n",
      "['NFLX', 'NVDA', 'TWTR', 'TSLA']\n",
      "['NFLX', 'BABA', 'BIDU', 'TWTR']\n",
      "['NFLX', 'BABA', 'BIDU', 'TSLA']\n",
      "['NFLX', 'BABA', 'TWTR', 'TSLA']\n",
      "['NFLX', 'BIDU', 'TWTR', 'TSLA']\n",
      "['NVDA', 'BABA', 'BIDU', 'TWTR']\n",
      "['NVDA', 'BABA', 'BIDU', 'TSLA']\n",
      "['NVDA', 'BABA', 'TWTR', 'TSLA']\n",
      "['NVDA', 'BIDU', 'TWTR', 'TSLA']\n",
      "['BABA', 'BIDU', 'TWTR', 'TSLA']\n",
      "['NFLX', 'NVDA', 'BABA', 'BIDU', 'TWTR']\n",
      "['NFLX', 'NVDA', 'BABA', 'BIDU', 'TSLA']\n",
      "['NFLX', 'NVDA', 'BABA', 'TWTR', 'TSLA']\n",
      "['NFLX', 'NVDA', 'BIDU', 'TWTR', 'TSLA']\n",
      "['NFLX', 'BABA', 'BIDU', 'TWTR', 'TSLA']\n",
      "['NVDA', 'BABA', 'BIDU', 'TWTR', 'TSLA']\n",
      "['NFLX', 'NVDA', 'BABA', 'BIDU', 'TWTR', 'TSLA']\n"
     ]
    },
    {
     "ename": "AttributeError",
     "evalue": "'NoneType' object has no attribute 'total_results'",
     "output_type": "error",
     "traceback": [
      "\u001b[1;31m---------------------------------------------------------------------------\u001b[0m",
      "\u001b[1;31mAttributeError\u001b[0m                            Traceback (most recent call last)",
      "\u001b[1;32m<ipython-input-15-f1abf2717ee7>\u001b[0m in \u001b[0;36m<module>\u001b[1;34m\u001b[0m\n\u001b[1;32m----> 1\u001b[1;33m \u001b[0mcaculating_tools\u001b[0m\u001b[1;33m(\u001b[0m\u001b[1;33m)\u001b[0m\u001b[1;33m.\u001b[0m\u001b[0mtotal_results\u001b[0m\u001b[1;33m.\u001b[0m\u001b[0mto_csv\u001b[0m\u001b[1;33m(\u001b[0m\u001b[1;34m\"rolling_results5.csv\"\u001b[0m\u001b[1;33m)\u001b[0m\u001b[1;33m\u001b[0m\u001b[1;33m\u001b[0m\u001b[0m\n\u001b[0m",
      "\u001b[1;31mAttributeError\u001b[0m: 'NoneType' object has no attribute 'total_results'"
     ]
    }
   ],
   "source": [
    "total_results.to_csv(\"rolling_results5.csv\") "
   ]
  },
  {
   "cell_type": "code",
   "execution_count": null,
   "metadata": {},
   "outputs": [],
   "source": [
    ",MSFT,BRK-B,JNJ,JPM,V,HD,MA,PYPL,VZ,CRM,ADBE,DIS,CMCSA"
   ]
  },
  {
   "cell_type": "code",
   "execution_count": null,
   "metadata": {},
   "outputs": [],
   "source": []
  },
  {
   "cell_type": "code",
   "execution_count": 16,
   "metadata": {},
   "outputs": [
    {
     "name": "stdout",
     "output_type": "stream",
     "text": [
      "                                          Ticker  one_year  avg_drawdown  \\\n",
      "Equal-weighted                              NFLX  0.039910     -0.004123   \n",
      "Equal-weighted                              NVDA  0.096113     -0.004075   \n",
      "Equal-weighted                              BABA  0.018545     -0.004609   \n",
      "Equal-weighted                              BIDU  0.101547     -0.008743   \n",
      "Equal-weighted                              TWTR  0.068046     -0.013640   \n",
      "...                                          ...       ...           ...   \n",
      "Equal-weighted  NFLX,TWTR,AAPL,AMZN,FB,GOOG,FSLR  0.323017     -0.039025   \n",
      "Equal-weighted  BABA,BIDU,TWTR,AAPL,AMZN,FB,GOOG  0.334472     -0.039703   \n",
      "Equal-weighted  BABA,BIDU,TWTR,AMZN,FB,GOOG,FSLR  0.349564     -0.044940   \n",
      "Equal-weighted  BABA,TWTR,AAPL,AMZN,FB,GOOG,FSLR  0.301653     -0.039511   \n",
      "Equal-weighted  BIDU,TWTR,AAPL,AMZN,FB,GOOG,FSLR  0.384655     -0.043645   \n",
      "\n",
      "                yearly_vol  \n",
      "Equal-weighted    0.019696  \n",
      "Equal-weighted    0.068921  \n",
      "Equal-weighted    0.031972  \n",
      "Equal-weighted    0.032310  \n",
      "Equal-weighted    0.025762  \n",
      "...                    ...  \n",
      "Equal-weighted    0.184817  \n",
      "Equal-weighted    0.180472  \n",
      "Equal-weighted    0.197714  \n",
      "Equal-weighted    0.197093  \n",
      "Equal-weighted    0.197431  \n",
      "\n",
      "[949 rows x 4 columns]\n"
     ]
    }
   ],
   "source": [
    "X = total_results[ (total_results['yearly_vol']< 0.2)]\n",
    "print(X)"
   ]
  }
 ],
 "metadata": {
  "kernelspec": {
   "display_name": "Python 3",
   "language": "python",
   "name": "python3"
  },
  "language_info": {
   "codemirror_mode": {
    "name": "ipython",
    "version": 3
   },
   "file_extension": ".py",
   "mimetype": "text/x-python",
   "name": "python",
   "nbconvert_exporter": "python",
   "pygments_lexer": "ipython3",
   "version": "3.8.5"
  }
 },
 "nbformat": 4,
 "nbformat_minor": 4
}

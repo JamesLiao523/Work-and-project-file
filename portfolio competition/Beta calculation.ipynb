{
 "cells": [
  {
   "cell_type": "markdown",
   "metadata": {},
   "source": [
    "## Beta- Each Ticker to Portfolio/Fund - Rolling selection"
   ]
  },
  {
   "cell_type": "markdown",
   "metadata": {},
   "source": [
    "### import packages"
   ]
  },
  {
   "cell_type": "code",
   "execution_count": 2,
   "metadata": {},
   "outputs": [],
   "source": [
    "import ffn\n",
    "import warnings\n",
    "import numpy as np\n",
    "import pandas as pd\n",
    "import statistics as st\n",
    "pd.set_option('display.float_format',lambda x : '%.7f' % x)\n",
    "warnings.filterwarnings(\"ignore\")"
   ]
  },
  {
   "cell_type": "markdown",
   "metadata": {},
   "source": [
    "### set weight"
   ]
  },
  {
   "cell_type": "code",
   "execution_count": 2,
   "metadata": {},
   "outputs": [],
   "source": [
    "ticker_dict = {}\n",
    "ticker_dict[\"ben\"]= 0.395342633\n",
    "ticker_dict[\"alxn\"]= 0.165616348\n",
    "ticker_dict[\"twtr\"]= 0.080393952\n",
    "ticker_dict[\"fslr\"] = 0.057603788\n",
    "ticker_dict[\"bidu\"] = 0.051790624\n",
    "ticker_dict[\"axp\"] = 0.050945364\n",
    "ticker_dict[\"etn\"] = 0.048031878\n",
    "ticker_dict[\"amgn\"] = 0.03021901\n",
    "ticker_dict[\"aapl\"] = 0.03028385\n",
    "ticker_dict[\"enph\"] = 0.021541526\n",
    "ticker_dict[\"fb\"] = 0.018584452\n",
    "ticker_dict[\"baba\"] = 0.015565296\n",
    "ticker_dict[\"sedg\"] = 0.011624454\n",
    "ticker_dict[\"nflx\"] = 0.006921963\n",
    "ticker_dict[\"nvda\"] = 0.006137999\n",
    "ticker_dict[\"tsla\"] = 0.005327053\n",
    "ticker_dict[\"goog\"] = 0.002887009\n",
    "ticker_dict[\"amzn\"] = 0.001182802"
   ]
  },
  {
   "cell_type": "markdown",
   "metadata": {},
   "source": [
    "### Set ticker and time"
   ]
  },
  {
   "cell_type": "code",
   "execution_count": 3,
   "metadata": {},
   "outputs": [],
   "source": [
    "ticker_lists = \"NFLX,NVDA,BABA,BIDU,TWTR,TSLA,AAPL,AMZN,ENPH,FB,GOOG,FSLR,SEDG,AXP,BEN,ALXN,AMGN,ETN\"\n",
    "ranges = ticker_lists.split(\",\")\n",
    "start_date = \"2015-2-20\"\n",
    "\n"
   ]
  },
  {
   "cell_type": "markdown",
   "metadata": {},
   "source": [
    "### Calculation Beta"
   ]
  },
  {
   "cell_type": "code",
   "execution_count": 4,
   "metadata": {},
   "outputs": [
    {
     "name": "stdout",
     "output_type": "stream",
     "text": [
      "Annual_Return:0.5797063200843735 \n",
      " dayily_vol:0.24193539505919082 \n",
      " Max beta is:alxn   1.2901563\n",
      "dtype: object \n",
      " Adjusted ticker List:['nflx', 'nvda', 'baba', 'bidu', 'twtr', 'tsla', 'aapl', 'amzn', 'enph', 'fb', 'goog', 'fslr', 'sedg', 'axp', 'ben', 'amgn', 'etn'] \n",
      "\n",
      "\n",
      "Annual_Return:0.5834303210620642 \n",
      " dayily_vol:0.23002254815883386 \n",
      " Max beta is:enph   1.4541007\n",
      "dtype: object \n",
      " Adjusted ticker List:['nflx', 'nvda', 'baba', 'bidu', 'twtr', 'tsla', 'aapl', 'amzn', 'fb', 'goog', 'fslr', 'sedg', 'axp', 'ben', 'amgn', 'etn'] \n",
      "\n",
      "\n",
      "Annual_Return:0.5505461874269011 \n",
      " dayily_vol:0.22851523017157477 \n",
      " Max beta is:sedg   1.2426233\n",
      "dtype: object \n",
      " Adjusted ticker List:['nflx', 'nvda', 'baba', 'bidu', 'twtr', 'tsla', 'aapl', 'amzn', 'fb', 'goog', 'fslr', 'axp', 'ben', 'amgn', 'etn'] \n",
      "\n",
      "\n",
      "Annual_Return:0.5318440223703629 \n",
      " dayily_vol:0.2264416263691445 \n",
      " Max beta is:nvda   1.2240646\n",
      "dtype: object \n",
      " Adjusted ticker List:['nflx', 'baba', 'bidu', 'twtr', 'tsla', 'aapl', 'amzn', 'fb', 'goog', 'fslr', 'axp', 'ben', 'amgn', 'etn'] \n",
      "\n",
      "\n",
      "Annual_Return:0.5149082472020046 \n",
      " dayily_vol:0.22503250602481262 \n",
      " Max beta is:twtr   1.2115463\n",
      "dtype: object \n",
      " Adjusted ticker List:['nflx', 'baba', 'bidu', 'tsla', 'aapl', 'amzn', 'fb', 'goog', 'fslr', 'axp', 'ben', 'amgn', 'etn'] \n",
      "\n",
      "\n",
      "Annual_Return:0.488414677581964 \n",
      " dayily_vol:0.22359240541488945 \n",
      " Max beta is:bidu   1.2223315\n",
      "dtype: object \n",
      " Adjusted ticker List:['nflx', 'baba', 'tsla', 'aapl', 'amzn', 'fb', 'goog', 'fslr', 'axp', 'ben', 'amgn', 'etn'] \n",
      "\n",
      "\n",
      "Annual_Return:0.36432145149260675 \n",
      " dayily_vol:0.21904324458325905 \n",
      " Max beta is:fslr   1.1619820\n",
      "dtype: object \n",
      " Adjusted ticker List:['nflx', 'baba', 'tsla', 'aapl', 'amzn', 'fb', 'goog', 'axp', 'ben', 'amgn', 'etn'] \n",
      "\n",
      "\n",
      "Annual_Return:0.3424142478421166 \n",
      " dayily_vol:0.218214381063687 \n",
      " Max beta is:ben   1.1553363\n",
      "dtype: object \n",
      " Adjusted ticker List:['nflx', 'baba', 'tsla', 'aapl', 'amzn', 'fb', 'goog', 'axp', 'amgn', 'etn'] \n",
      "\n",
      "\n",
      "Annual_Return:0.375341260377283 \n",
      " dayily_vol:0.21500098847113921 \n",
      " Max beta is:tsla   1.2425750\n",
      "dtype: object \n",
      " Adjusted ticker List:['nflx', 'baba', 'aapl', 'amzn', 'fb', 'goog', 'axp', 'amgn', 'etn'] \n",
      "\n",
      "\n",
      "Annual_Return:0.30128882476860475 \n",
      " dayily_vol:0.21366735091506311 \n",
      " Max beta is:nflx   1.1754325\n",
      "dtype: object \n",
      " Adjusted ticker List:['baba', 'aapl', 'amzn', 'fb', 'goog', 'axp', 'amgn', 'etn'] \n",
      "\n",
      "\n",
      "Annual_Return:0.2865544310222987 \n",
      " dayily_vol:0.21288805444492168 \n",
      " Max beta is:fb   1.1127088\n",
      "dtype: object \n",
      " Adjusted ticker List:['baba', 'aapl', 'amzn', 'goog', 'axp', 'amgn', 'etn'] \n",
      "\n",
      "\n",
      "Annual_Return:0.2822658787450192 \n",
      " dayily_vol:0.21161248908617336 \n",
      " Max beta is:axp   1.1377152\n",
      "dtype: object \n",
      " Adjusted ticker List:['baba', 'aapl', 'amzn', 'goog', 'amgn', 'etn'] \n",
      "\n",
      "\n",
      "Annual_Return:0.3301135811633662 \n",
      " dayily_vol:0.21284527166049866 \n",
      " Max beta is:aapl   1.0438767\n",
      "dtype: object \n",
      " Adjusted ticker List:['baba', 'amzn', 'goog', 'amgn', 'etn'] \n",
      "\n",
      "\n",
      "Annual_Return:0.2923234927890359 \n",
      " dayily_vol:0.21221139016352447 \n",
      " Max beta is:baba   1.0488799\n",
      "dtype: object \n",
      " Adjusted ticker List:['amzn', 'goog', 'amgn', 'etn'] \n",
      "\n",
      "\n",
      "Annual_Return:0.3072384195722895 \n",
      " dayily_vol:0.21493568621127546 \n",
      " Max beta is:amgn   1.0345342\n",
      "dtype: object \n",
      " Adjusted ticker List:['amzn', 'goog', 'etn'] \n",
      "\n",
      "\n",
      "Annual_Return:0.43376481104651354 \n",
      " dayily_vol:0.2275952731250339 \n",
      " Max beta is:etn   1.0316743\n",
      "dtype: object \n",
      " Adjusted ticker List:['amzn', 'goog'] \n",
      "\n",
      "\n",
      "Annual_Return:0.5064999018567613 \n",
      " dayily_vol:0.258058808486589 \n",
      " Max beta is:amzn   1.0001034\n",
      "dtype: object \n",
      " Adjusted ticker List:['goog'] \n",
      "\n",
      "\n"
     ]
    }
   ],
   "source": [
    "while len(ranges) > 1:\n",
    "    portfolio = ffn.get(ranges, start = start_date)\n",
    "    \n",
    "     \n",
    "    # Create Fund/portfolio with existing weight\n",
    "    portfolio[\"Fund\"] = 0\n",
    "    for i in ranges:    \n",
    "        i = i.lower()\n",
    "        portfolio[\"Fund\"] += (portfolio[i] * ticker_dict[i] )\n",
    "    \n",
    "    \n",
    "    portfolio_stats = portfolio.calc_stats()\n",
    "    \n",
    "    #return correlation\n",
    "    corr = portfolio.pct_change().corr()  \n",
    "    \n",
    "    #vol fraction\n",
    "    Beta_table = portfolio_stats.stats.loc[[\"daily_vol\"], :]\n",
    "    returns = portfolio[\"Fund\"].pct_change()\n",
    "    Beta_table[\"Fund\"] = (returns.std()) * np.sqrt(252)  #annualize volitility\n",
    "    Beta_table = Beta_table.T\n",
    "    Beta_table[\"D\"] =  Beta_table.loc[\"Fund\"]['daily_vol']  #create Denominator\n",
    "    Beta_table[\"frac\"] = Beta_table[\"daily_vol\"]/Beta_table[\"D\"] #create volitility porpotion\n",
    "    \n",
    "    \n",
    "    #combine to correlation matrix\n",
    "    corr[\"frac\"] = Beta_table[\"frac\"]\n",
    "    Fund = corr[\"Fund\"] *  corr[\"frac\"]\n",
    "    \n",
    "    #print(Fund,\"\\n\")\n",
    "    \n",
    "    \n",
    "    # Selection methodology\n",
    "    Fund = Fund.loc[Fund != Fund[\"Fund\"]]\n",
    "    max_beta = Fund.max()\n",
    "    Fund_ticker = Fund.loc[Fund!=abs(Fund.max())]\n",
    "    \n",
    "    # update ranges\n",
    "    ranges = []\n",
    "    for i in Fund_ticker.index:   \n",
    "        ranges.append(str(i))\n",
    "        \n",
    "    \n",
    "    max_ticker = Fund.loc[Fund == max_beta] \n",
    "    \n",
    "    # locate annual return of porrtfolio\n",
    "    Annual_return = portfolio_stats.stats\n",
    "    Annual_return = pd.DataFrame(Annual_return)\n",
    "    Annual_return = Annual_return.T\n",
    "    Annual_return = Annual_return[\"one_year\"][\"Fund\"]\n",
    "    \n",
    "    \n",
    "    print(\"Annual_Return:%s\" %Annual_return,\"\\n\", \"dayily_vol:%s\" %Beta_table.loc[\"Fund\"]['daily_vol'],\"\\n\", \"Max beta is:%s\" %max_ticker,\"\\n\", \"Adjusted ticker List:%s\" %ranges ,\"\\n\"\"\\n\")"
   ]
  },
  {
   "cell_type": "markdown",
   "metadata": {},
   "source": [
    "## Beta- Ticker to S&P 500"
   ]
  },
  {
   "cell_type": "markdown",
   "metadata": {},
   "source": [
    "### Set ticker + S&P"
   ]
  },
  {
   "cell_type": "code",
   "execution_count": 5,
   "metadata": {},
   "outputs": [],
   "source": [
    "ticker_lists_sp = \"NFLX,NVDA,BABA,BIDU,TWTR,TSLA,AAPL,AMZN,ENPH,FB,GOOG,FSLR,SEDG,AXP,BEN,ALXN,AMGN,ETN,^GSPC\"\n",
    "ranges_sp = ticker_lists_sp.split(\",\")\n",
    "start_date = \"2015-2-20\""
   ]
  },
  {
   "cell_type": "markdown",
   "metadata": {},
   "source": [
    "### Calculate beta"
   ]
  },
  {
   "cell_type": "code",
   "execution_count": 6,
   "metadata": {},
   "outputs": [
    {
     "name": "stdout",
     "output_type": "stream",
     "text": [
      "nflx   1.0380578\n",
      "nvda   1.4798336\n",
      "baba   0.9087553\n",
      "bidu   0.9833671\n",
      "twtr   1.2049169\n",
      "tsla   1.2665978\n",
      "aapl   1.1786025\n",
      "amzn   0.9644161\n",
      "enph   1.5327414\n",
      "fb     1.0804713\n",
      "goog   1.0678727\n",
      "fslr   1.0795190\n",
      "sedg   1.3373298\n",
      "axp    1.2577915\n",
      "ben    1.1489540\n",
      "alxn   0.9975340\n",
      "amgn   0.9135000\n",
      "etn    1.1969658\n",
      "gspc   1.0000000\n",
      "Name: beta, dtype: object\n"
     ]
    }
   ],
   "source": [
    "portfolio_sp = ffn.get(ranges_sp, start = start_date)\n",
    "portfolio_sp_stats = portfolio_sp.calc_stats()\n",
    "\n",
    "corr_sp = portfolio_sp.pct_change().corr()[\"gspc\"]\n",
    "\n",
    "\n",
    "Beta_table_sp = portfolio_sp_stats.stats.loc[[\"daily_vol\"], :]\n",
    "\n",
    "Beta_table_sp = Beta_table_sp.T\n",
    "Beta_table_sp[\"D\"] =  Beta_table_sp.iloc[-1,0]  #create Denominator\n",
    "Beta_table_sp[\"frac\"] = Beta_table_sp[\"daily_vol\"]/Beta_table_sp[\"D\"] #create volitility porpotion\n",
    "\n",
    "Fund_sp_total = pd.merge(corr_sp, Beta_table_sp[\"frac\"], left_index=True, right_index=True)\n",
    "Fund_sp_total[\"beta\"] = (Fund_sp_total[\"gspc\"]*Fund_sp_total[\"frac\"])\n",
    "\n",
    "print(Fund_sp_total[\"beta\"])\n",
    "\n"
   ]
  },
  {
   "cell_type": "code",
   "execution_count": null,
   "metadata": {
    "collapsed": true
   },
   "outputs": [],
   "source": []
  },
  {
   "cell_type": "code",
   "execution_count": null,
   "metadata": {
    "collapsed": true
   },
   "outputs": [],
   "source": []
  },
  {
   "cell_type": "markdown",
   "metadata": {},
   "source": [
    "### s&p 500 check"
   ]
  },
  {
   "cell_type": "code",
   "execution_count": 3,
   "metadata": {},
   "outputs": [
    {
     "name": "stdout",
     "output_type": "stream",
     "text": [
      "Stat                 nflx        nvda        baba        bidu        twtr        tsla        aapl        amzn        enph        fb          goog        fslr        sedg        axp         ben         alxn        amgn        etn\n",
      "-------------------  ----------  ----------  ----------  ----------  ----------  ----------  ----------  ----------  ----------  ----------  ----------  ----------  ----------  ----------  ----------  ----------  ----------  ----------\n",
      "Start                2015-03-26  2015-03-26  2015-03-26  2015-03-26  2015-03-26  2015-03-26  2015-03-26  2015-03-26  2015-03-26  2015-03-26  2015-03-26  2015-03-26  2015-03-26  2015-03-26  2015-03-26  2015-03-26  2015-03-26  2015-03-26\n",
      "End                  2021-02-24  2021-02-24  2021-02-24  2021-02-24  2021-02-24  2021-02-24  2021-02-24  2021-02-24  2021-02-24  2021-02-24  2021-02-24  2021-02-24  2021-02-24  2021-02-24  2021-02-24  2021-02-24  2021-02-24  2021-02-24\n",
      "Risk-free rate       0.00%       0.00%       0.00%       0.00%       0.00%       0.00%       0.00%       0.00%       0.00%       0.00%       0.00%       0.00%       0.00%       0.00%       0.00%       0.00%       0.00%       0.00%\n",
      "\n",
      "Total Return         826.19%     2762.45%    197.42%     47.98%      44.07%      1848.48%    341.94%     760.09%     1378.90%    218.41%     278.43%     47.65%      1388.65%    96.26%      -30.27%     -12.24%     68.41%      135.83%\n",
      "Daily Sharpe         1.10        1.46        0.72        0.36        0.39        1.18        1.00        1.34        0.95        0.77        0.96        0.37        1.03        0.51        -0.03       0.14        0.47        0.64\n",
      "Daily Sortino        1.96        2.53        1.22        0.62        0.60        2.04        1.63        2.36        1.72        1.23        1.61        0.63        1.85        0.85        -0.05       0.24        0.79        1.06\n",
      "CAGR                 45.65%      76.24%      20.22%      6.85%       6.36%       65.15%      28.54%      43.84%      57.63%      21.61%      25.21%      6.80%       57.81%      12.07%      -5.91%      -2.18%      9.21%       15.60%\n",
      "Max Drawdown         -44.18%     -56.04%     -38.87%     -70.56%     -73.50%     -60.63%     -38.52%     -34.10%     -95.00%     -42.96%     -30.79%     -64.03%     -70.97%     -49.64%     -64.49%     -63.65%     -24.77%     -44.55%\n",
      "Calmar Ratio         1.03        1.36        0.52        0.10        0.09        1.07        0.74        1.29        0.61        0.50        0.82        0.11        0.81        0.24        -0.09       -0.03       0.37        0.35\n",
      "\n",
      "MTD                  3.95%       11.62%      -1.37%      29.35%      42.33%      -6.49%      -4.87%      -1.46%      -0.81%      2.31%       14.13%      -11.22%     6.87%       20.33%      6.24%       0.76%       -4.03%      12.73%\n",
      "3m                   14.61%      11.93%      -10.58%     126.27%     59.01%      33.61%      9.00%       1.33%       32.97%      -4.55%      18.45%      -2.63%      14.57%      16.60%      26.28%      25.49%      5.10%       7.65%\n",
      "6m                   13.22%      14.05%      -9.30%      147.40%     77.62%      84.20%      -0.08%      -4.47%      146.55%     -2.61%      31.92%      15.04%      46.15%      41.92%      32.71%      50.82%      -0.97%      29.86%\n",
      "YTD                  2.34%       11.06%      7.57%       40.59%      32.82%      5.15%       -5.39%      -2.99%      3.08%       -3.24%      19.60%      -11.01%     -3.44%      16.10%      11.76%      -1.12%      0.77%       10.44%\n",
      "1Y                   50.10%      112.57%     21.43%      141.60%     100.39%     344.97%     69.46%      57.25%      227.31%     31.68%      47.38%      71.90%      127.20%     11.08%      21.79%      56.02%      8.51%       33.53%\n",
      "3Y (ann.)            23.49%      33.39%      8.85%       5.87%       30.83%      118.41%     42.75%      27.62%      308.06%     12.66%      22.40%      10.60%      82.43%      13.00%      -5.00%      8.40%       9.98%       20.24%\n",
      "5Y (ann.)            43.27%      79.44%      30.06%      13.31%      31.91%      83.32%      41.16%      41.63%      146.59%     19.84%      24.52%      4.85%       65.36%      22.65%      0.46%       1.70%       12.45%      21.92%\n",
      "10Y (ann.)           -           -           -           -           -           -           -           -           -           -           -           -           -           -           -           -           -           -\n",
      "Since Incep. (ann.)  45.65%      76.24%      20.22%      6.85%       6.36%       65.15%      28.54%      43.84%      57.63%      21.61%      25.21%      6.80%       57.81%      12.07%      -5.91%      -2.18%      9.21%       15.60%\n",
      "\n",
      "Daily Sharpe         1.10        1.46        0.72        0.36        0.39        1.18        1.00        1.34        0.95        0.77        0.96        0.37        1.03        0.51        -0.03       0.14        0.47        0.64\n",
      "Daily Sortino        1.96        2.53        1.22        0.62        0.60        2.04        1.63        2.36        1.72        1.23        1.61        0.63        1.85        0.85        -0.05       0.24        0.79        1.06\n",
      "Daily Mean (ann.)    46.66%      67.28%      24.14%      14.18%      20.44%      65.87%      29.58%      41.10%      85.39%      24.79%      26.22%      17.42%      66.03%      16.60%      -0.97%      5.51%       12.27%      18.78%\n",
      "Daily Vol (ann.)     42.56%      45.93%      33.74%      38.90%      52.94%      55.87%      29.73%      30.64%      89.85%      32.11%      27.25%      46.63%      64.24%      32.47%      31.97%      39.56%      26.28%      29.31%\n",
      "Daily Skew           0.67        0.60        0.02        0.31        -0.54       0.21        -0.09       0.58        0.75        -0.33       0.55        0.34        0.78        1.55        -0.16       1.04        0.30        0.92\n",
      "Daily Kurt           7.27        12.96       3.06        6.98        9.05        5.72        6.58        6.21        8.75        11.80       10.25       5.02        7.23        29.07       7.06        14.94       5.43        22.57\n",
      "Best Day             19.03%      29.81%      13.29%      15.57%      21.42%      19.89%      11.98%      14.13%      42.44%      15.52%      16.05%      20.35%      28.11%      21.88%      13.51%      29.20%      10.90%      23.26%\n",
      "Worst Day            -13.13%     -18.76%     -13.34%     -16.52%     -21.11%     -21.06%     -12.86%     -7.92%      -37.37%     -18.96%     -11.10%     -14.96%     -22.92%     -14.82%     -13.62%     -12.86%     -9.58%      -11.97%\n",
      "\n",
      "Monthly Sharpe       1.18        1.59        0.69        0.35        0.37        1.08        1.01        1.39        0.88        0.87        1.12        0.36        1.08        0.57        -0.08       0.14        0.48        0.74\n",
      "Monthly Sortino      2.76        3.45        1.47        0.72        0.69        3.18        2.08        3.31        2.29        1.99        2.52        0.72        2.45        0.94        -0.14       0.24        0.90        1.31\n",
      "Monthly Mean (ann.)  45.06%      66.51%      24.95%      14.84%      18.31%      68.33%      29.51%      40.79%      91.94%      23.32%      25.40%      16.81%      59.77%      14.90%      -2.28%      5.39%       11.86%      16.86%\n",
      "Monthly Vol (ann.)   38.28%      41.94%      36.29%      42.97%      49.65%      63.16%      29.22%      29.42%      104.38%     26.91%      22.73%      46.15%      55.30%      26.22%      27.21%      38.35%      24.52%      22.86%\n",
      "Monthly Skew         0.67        -0.04       0.67        1.35        0.07        1.27        -0.10       0.36        0.90        0.65        0.31        0.34        0.38        -0.09       -0.08       0.01        0.05        -0.34\n",
      "Monthly Kurt         1.61        0.93        1.94        5.75        -0.03       2.50        -0.35       1.02        1.22        0.93        0.25        0.01        0.48        4.65        0.35        0.23        -0.01       0.43\n",
      "Best Month           40.81%      38.54%      42.16%      55.58%      42.33%      74.15%      21.66%      26.89%      110.18%     27.16%      20.19%      33.50%      49.76%      29.98%      17.28%      27.95%      18.00%      17.50%\n",
      "Worst Month          -19.71%     -25.07%     -19.57%     -33.83%     -27.40%     -22.43%     -18.12%     -20.22%     -53.61%     -13.34%     -13.18%     -25.12%     -34.35%     -22.74%     -22.09%     -23.50%     -15.38%     -17.36%\n",
      "\n",
      "Yearly Sharpe        1.24        0.91        0.62        0.35        0.75        0.46        0.87        1.09        0.77        0.63        1.24        0.31        0.72        0.90        0.02        -0.01       0.66        1.09\n",
      "Yearly Sortino       inf         6.47        3.10        1.10        2.08        30.37       13.26       26.16       6.82        2.00        45.92       0.89        4.08        13.86       0.03        -0.03       3.10        4.47\n",
      "Yearly Mean          32.18%      81.41%      25.99%      14.75%      25.12%      135.99%     36.90%      31.94%      198.45%     20.67%      19.33%      19.91%      90.56%      14.94%      0.32%       -0.38%      9.39%       21.12%\n",
      "Yearly Vol           26.03%      89.91%      42.11%      42.00%      33.70%      298.22%     42.61%      29.30%      256.36%     32.71%      15.63%      64.58%      126.36%     16.56%      14.14%      27.34%      14.30%      19.43%\n",
      "Yearly Skew          0.23        0.57        1.03        0.20        -0.55       2.43        0.27        0.58        0.71        -0.27       -0.56       0.39        0.01        0.35        -1.10       0.60        0.14        -0.96\n",
      "Yearly Kurt          -1.82       0.55        0.47        -2.18       0.76        5.91        -2.35       -0.67       -1.32       -1.48       -1.96       -1.63       -2.76       -1.93       0.10        0.96        -2.18       0.66\n",
      "Best Year            67.11%      226.96%     96.37%      71.08%      68.95%      743.44%     88.96%      76.26%      571.53%     56.57%      35.58%      110.41%     235.60%     36.22%      11.76%      44.47%      27.60%      42.76%\n",
      "Worst Year           2.34%       -30.82%     -20.51%     -32.28%     -29.56%     -10.97%     -5.39%      -2.99%      -71.23%     -25.71%     -1.03%      -51.37%     -55.98%     -2.62%      -23.34%     -35.86%     -7.56%      -11.59%\n",
      "\n",
      "Avg. Drawdown        -5.09%      -5.54%      -5.78%      -10.04%     -19.53%     -8.10%      -4.22%      -3.94%      -12.94%     -4.65%      -3.72%      -11.94%     -9.24%      -4.30%      -16.79%     -13.80%     -5.60%      -3.98%\n",
      "Avg. Drawdown Days   31.25       21.01       38.28       117.50      427.20      41.12       28.94       22.95       61.58       27.80       28.19       78.26       38.81       35.04       538.75      305.71      45.40       31.53\n",
      "Avg. Up Month        9.26%       11.03%      8.79%       9.07%       12.58%      17.04%      8.51%       8.24%       29.43%      6.42%       5.83%       12.13%      13.38%      5.21%       6.01%       9.06%       5.66%       5.49%\n",
      "Avg. Down Month      -7.73%      -7.52%      -7.10%      -6.82%      -10.51%     -8.94%      -5.35%      -4.49%      -16.03%     -5.35%      -4.30%      -8.45%      -11.46%     -4.86%      -5.89%      -7.92%      -5.40%      -4.86%\n",
      "Win Year %           100.00%     83.33%      83.33%      50.00%      83.33%      83.33%      66.67%      83.33%      83.33%      66.67%      83.33%      50.00%      50.00%      66.67%      66.67%      33.33%      66.67%      83.33%\n",
      "Win 12m %            81.97%      81.97%      77.05%      47.54%      59.02%      59.02%      77.05%      96.72%      68.85%      86.89%      88.52%      55.74%      68.85%      67.21%      37.70%      32.79%      81.97%      80.33%\n"
     ]
    }
   ],
   "source": [
    "test = \"NFLX,NVDA,BABA,BIDU,TWTR,TSLA,AAPL,AMZN,ENPH,FB,GOOG,FSLR,SEDG,AXP,BEN,ALXN,AMGN,ETN\"\n",
    "r = test.split(\",\")\n",
    "start_date = \"2015-2-20\"\n",
    "p = ffn.get(r, start = start_date)\n",
    "p = p.calc_stats()\n",
    "p.display()"
   ]
  },
  {
   "cell_type": "code",
   "execution_count": null,
   "metadata": {
    "collapsed": true
   },
   "outputs": [],
   "source": []
  }
 ],
 "metadata": {
  "kernelspec": {
   "display_name": "Python 3",
   "language": "python",
   "name": "python3"
  },
  "language_info": {
   "codemirror_mode": {
    "name": "ipython",
    "version": 3
   },
   "file_extension": ".py",
   "mimetype": "text/x-python",
   "name": "python",
   "nbconvert_exporter": "python",
   "pygments_lexer": "ipython3",
   "version": "3.8.5"
  }
 },
 "nbformat": 4,
 "nbformat_minor": 4
}

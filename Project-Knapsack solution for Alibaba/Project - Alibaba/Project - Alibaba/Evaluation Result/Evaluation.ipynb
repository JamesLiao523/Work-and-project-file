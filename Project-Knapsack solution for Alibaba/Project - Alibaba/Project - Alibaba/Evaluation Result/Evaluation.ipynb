{
 "cells": [
  {
   "cell_type": "markdown",
   "metadata": {},
   "source": [
    "# Evaluating the Solutions for the Logistic Problem in Alibaba"
   ]
  },
  {
   "cell_type": "markdown",
   "metadata": {},
   "source": [
    "Note:Please make sure that you are using unique codes because this problem is different with previous midterm projects. "
   ]
  },
  {
   "cell_type": "markdown",
   "metadata": {},
   "source": [
    "### First lets generate the 300 random knapsack sizes and write the results to a csv"
   ]
  },
  {
   "cell_type": "code",
   "execution_count": 1,
   "metadata": {},
   "outputs": [
    {
     "name": "stdout",
     "output_type": "stream",
     "text": [
      "[126 142 100 120 111 107 113 122 125 132 126 140 114 151 102 139 126 133\n",
      " 110 114 146 157 120 140 151 152 106 103 112 151 107 126 157 132 140 120\n",
      " 140 148 102 143 159 143 118 146 108 127 153 119 119 110 102 139 115 118\n",
      " 130 104 134 111 135 140 108 126 140 126 104 132 139 131 156 134 153 110\n",
      " 110 147 125 112 154 122 143 142 151 136 143 122 118 152 126 157 139 136\n",
      " 109 156 127 134 125 116 153 134 100 136 121 131 152 123 153 136 101 155\n",
      " 140 160 112 110 155 140 105 144 143 154 141 109 102 102 102 117 150 132\n",
      " 133 149 109 118 134 158 133 102 146 116 147 124 150 143 133 110 105 109\n",
      " 104 108 115 141 133 101 106 157 134 114 117 143 114 134 158 149 116 130\n",
      " 136 148 111 102 105 129 135 134 120 159 134 124 133 143 139 118 105 123\n",
      " 137 114 143 105 117 146 113 137 131 154 117 105 142 145 153 155 101 116\n",
      " 136 156 156 133 154 137 124 129 135 133 154 154 125 157 112 109 110 130\n",
      " 102 156 148 101 112 121 110 147 122 155 134 151 149 153 128 132 146 119\n",
      " 129 135 101 135 127 147 120 152 134 113 145 136 104 126 139 154 100 158\n",
      " 124 158 135 148 134 137 119 134 143 150 144 140 150 121 139 127 124 125\n",
      " 125 120 136 126 158 139 114 126 122 146 151 153 138 118 117 150 131 146\n",
      " 134 142 131 144 134 128 122 105 124 106 159 113]\n"
     ]
    }
   ],
   "source": [
    "'''\n",
    "Author: James Liao\n",
    "Date: 3/ April/2021\n",
    "ID: 490851\n",
    "'''\n",
    "\n",
    "#----------------\n",
    "# Import packages\n",
    "#----------------\n",
    "import numpy as np\n",
    "import scipy\n",
    "import scipy.stats as stats\n",
    "import csv\n",
    "\n",
    "\n",
    "\n",
    "'''you will generate 300 capacities for each instance. It will be between 100-160. You will use normal distribution as mean:130 and standart deviation:30'''\n",
    "\n",
    "#-----------------------------------------------------------------\n",
    "# Generate capacities with following restriction and export to csv\n",
    "#-----------------------------------------------------------------\n",
    "np.random.seed(1)\n",
    "mean = 130\n",
    "std = 30\n",
    "lower = 100\n",
    "upper = 160\n",
    "N = 300\n",
    "samples = scipy.stats.truncnorm.rvs((lower-mean)/std,(upper-mean)/std,loc=mean,scale=std,size=N) #using truncated normal distribution method\n",
    "cap = samples.round().astype(int) # cap represents capacity \n",
    "print(cap)\n",
    "\n",
    "\n",
    "f = open(\"Knap_Sizes.csv\", \"w\") # We will create this file.\n",
    "for i in cap:   \n",
    "    f.write(\"%s\\n\" %(i))\n",
    "\n",
    "    \n",
    "f.close()"
   ]
  },
  {
   "cell_type": "markdown",
   "metadata": {},
   "source": [
    "### Last, let us evaluate the solution file based on the randomly generated knapsack sizes. \n",
    "#### Method1 - Using Dynamic Programming"
   ]
  },
  {
   "cell_type": "code",
   "execution_count": 2,
   "metadata": {},
   "outputs": [
    {
     "data": {
      "text/plain": [
       "{'490851': 73795.67}"
      ]
     },
     "execution_count": 2,
     "metadata": {},
     "output_type": "execute_result"
    }
   ],
   "source": [
    "submitted_file_path = \"test_knapsack_solution.csv\"\n",
    "\n",
    "#------------------------------------------------------------------------------\n",
    "# knapsack logic definition, return the table of dynamic programming result: \"K\"\n",
    "#------------------------------------------------------------------------------\n",
    "def knapSack(W, wt, val, n):\n",
    "       \n",
    "    # W = capacity\n",
    "    # wt = weight\n",
    "    # val = value\n",
    "    # n = number of boxes (or stocks,goods, etc... )\n",
    "    \n",
    "    K = [[0 for x in range(W + 1)] for x in range(n + 1)]\n",
    "    \n",
    "    for i in range(n + 1):\n",
    "        for w in range(W + 1):\n",
    "            if i == 0 or w == 0:\n",
    "                K[i][w] = 0\n",
    "            elif wt[i-1] <= w:\n",
    "                K[i][w] = max(val[i-1] + K[i-1][w-wt[i-1]], K[i-1][w])\n",
    "            else:\n",
    "                K[i][w] = K[i-1][w]\n",
    "            \n",
    "    return K\n",
    "\n",
    "#--------------------------------------------\n",
    "# Definition: Dynamic Programming Evaluation\n",
    "#--------------------------------------------\n",
    "def Evaluate_Sol(file_path):\n",
    "\n",
    "    \n",
    "    #----------------------------------------------\n",
    "    # Import value and weight data as list or array\n",
    "    #----------------------------------------------\n",
    "    f = open(submitted_file_path, \"r\")\n",
    "    rows = [rows for rows in f]\n",
    "\n",
    "    for i in range(len(rows)): \n",
    "            rows[i] = rows[i].split(\",\")\n",
    "\n",
    "    value = rows[1::3]        \n",
    "    weight = rows[::3]\n",
    "\n",
    "    value_list = np.float_(value)  # change type of number to interger and float\n",
    "    weight_list = np.int_(weight)\n",
    "    \n",
    "    \n",
    "    #--------------------------------------------------------------\n",
    "    # Find max value under each capacity and calculate total value\n",
    "    #-------------------------------------------------------------\n",
    "    total_element=[]  # store all index of selected element\n",
    "    result=[]  # store max value of each warehouse instance\n",
    "\n",
    "    for c in range(len(cap)): \n",
    "        val = value_list[c]   \n",
    "        wt= weight_list[c]     \n",
    "        n = len(val)      \n",
    "        W = cap[c]         \n",
    "        x = knapSack(W, wt, val, n)  # x represents the table of knapsack solution result. \n",
    "        result.append(x[n][W])  # x[n][w] is at the bottom right of the table, representing the max value.\n",
    "        \n",
    "        \n",
    "        #-------------------------------\n",
    "        # Find index of selected element\n",
    "        #-------------------------------\n",
    "        value_left = x[n][W]  \n",
    "        weight_left = W\n",
    "        element=[]  # store index of selected element of each warehouse instance\n",
    "        \n",
    "        for i in range(n, 0, -1):\n",
    "\n",
    "            if value_left <= 0 or weight_left <= 0:\n",
    "                break\n",
    "\n",
    "            if value_left == x[i - 1][weight_left]:\n",
    "                continue\n",
    "            else:       \n",
    "                element.append(i - 1)\n",
    "                value_left -= val[i - 1]\n",
    "                weight_left -= wt[i - 1] \n",
    "                \n",
    "                \n",
    "\n",
    "        total_element.append(element)\n",
    "\n",
    "    total_value = np.sum(result)    # calculate total value\n",
    "    \n",
    "    \n",
    "    #-----------------------------------------------------------------------------------\n",
    "    # Create list of 0 an 1 for selected items and write into test_knapsack_solution.csv\n",
    "    #-----------------------------------------------------------------------------------\n",
    "    final_element = []   # store list of all [0,1]\n",
    "\n",
    "    for i in total_element:\n",
    "        total_element_list = []  #store list of [0,1] of each warehouse instance\n",
    "        for k in range(n):\n",
    "            if k in i:\n",
    "                total_element_list.append(1)\n",
    "            else:\n",
    "                total_element_list.append(0)\n",
    "        final_element.append(total_element_list)\n",
    "        \n",
    "    f2 = open(submitted_file_path, \"w+\")\n",
    "    write = csv.writer(f2, lineterminator=\"\\n\")\n",
    "\n",
    "    for i in range(len(value_list)):\n",
    "        write.writerow(weight_list[i])\n",
    "        write.writerow(value_list[i])\n",
    "        write.writerow(final_element[i])\n",
    "        \n",
    "    f2.close()\n",
    "\n",
    "         \n",
    "    current_obj = total_value\n",
    "    student_id =  \"490851\"\n",
    "    \n",
    "    return {student_id: current_obj}\n",
    "\n",
    "\n",
    "final_results = Evaluate_Sol(submitted_file_path)\n",
    "final_results"
   ]
  },
  {
   "cell_type": "markdown",
   "metadata": {},
   "source": [
    "#### Conclusion:"
   ]
  },
  {
   "cell_type": "markdown",
   "metadata": {},
   "source": [
    "The total value of each Warehouse Instance is $73795.67 after using dynamic programming approach. "
   ]
  },
  {
   "cell_type": "markdown",
   "metadata": {},
   "source": [
    "#### Method2 - Using Monte-Carlo Simulation"
   ]
  },
  {
   "cell_type": "code",
   "execution_count": 3,
   "metadata": {},
   "outputs": [
    {
     "data": {
      "text/plain": [
       "{'490851': 533529.45}"
      ]
     },
     "execution_count": 3,
     "metadata": {},
     "output_type": "execute_result"
    }
   ],
   "source": [
    "#----------------------------------------------\n",
    "# Import value and weight data as list or array\n",
    "#----------------------------------------------\n",
    "f = open(submitted_file_path, \"r\")\n",
    "rows = [rows for rows in f]\n",
    "\n",
    "for i in range(len(rows)): \n",
    "        rows[i] = rows[i].split(\",\")\n",
    "\n",
    "value = rows[1::3]     \n",
    "weight = rows[::3]\n",
    "\n",
    "value_list = np.float_(value)\n",
    "weight_list = np.int_(weight)\n",
    "\n",
    "\n",
    "#--------------------------------------------------\n",
    "# Find max and min value as the range of simulation\n",
    "#--------------------------------------------------\n",
    "max_value = []\n",
    "min_value = []\n",
    "for i in value_list:\n",
    "    max_value.append(max(i))\n",
    "    min_value.append(min(i))\n",
    "\n",
    "max_v = max(max_value)\n",
    "min_v = min(min_value)\n",
    "\n",
    "#-----------------------------------------------------------------------------------------\n",
    "# Definition: Assign 50 random value between maximum and minimum value from original dataset\n",
    "#-----------------------------------------------------------------------------------------\n",
    "def random_value(Min, Max, n):\n",
    "    value = np.random.uniform(Min, Max, n)\n",
    "    value= np.around(value,2)\n",
    "    \n",
    "    return value\n",
    "\n",
    "\n",
    "\n",
    "#-----------------------------------\n",
    "# Definition: Monte-Carlo Simulation\n",
    "#-----------------------------------\n",
    "def monte_carlo_evaluation(N):\n",
    "    value_list_mc = []    # store the value for simulation result\n",
    "    mean_value_mc = []    # store the mean value for all simulation result\n",
    "    \n",
    "\n",
    "    for c in range(len(cap)):\n",
    "        for trial in range(N):\n",
    "            W = cap[c]\n",
    "            wt= weight_list[c]\n",
    "            n = len(wt)\n",
    "            Each_value = random_value(min_v, max_v, n) # generate random value for each warehouse instance\n",
    "            val = Each_value\n",
    "\n",
    "            x_mc = knapSack(W, wt, val, n)   # x_mc represents the table of knapsack solution result under monte-carlo simulation.\n",
    "            value_list_mc.append(x_mc[n][W]) #x_mc[n][w] is at the bottom right of the table, representing the max value under monte-carlo simulation\n",
    "        \n",
    "        mean_value_mc.append(np.mean(value_list_mc)) \n",
    "            \n",
    "    total_value_mc = np.around(np.sum(mean_value_mc),2) # Total value of each warehouse instance under monte-carlo simulation\n",
    "        \n",
    "    student_id = \"490851\"\n",
    "    current_obj = total_value_mc\n",
    "\n",
    "        \n",
    "    return {student_id: current_obj}\n",
    "\n",
    "final_results_mc =  monte_carlo_evaluation(1000)   # Each warehouse instance simulates for 1000 times \n",
    "final_results_mc   "
   ]
  },
  {
   "cell_type": "markdown",
   "metadata": {},
   "source": [
    "#### Conclusion"
   ]
  },
  {
   "cell_type": "markdown",
   "metadata": {},
   "source": [
    "The total value of each Warehouse Instance is 533529.45 . The number is far from the total value in previous approach, which is 73795.67, but it is explainable: The mean of randomly assigned value is larger than the mean of original value. Based on the calculation below, the mean of original dataset is 63.17, while the mean of randomly assigned dataset is nearly 160."
   ]
  },
  {
   "cell_type": "code",
   "execution_count": 23,
   "metadata": {},
   "outputs": [
    {
     "name": "stdout",
     "output_type": "stream",
     "text": [
      "The mean of orginal dataset is: 63.11771533333334 The mean of random assigned dataset is: 164.563436\n"
     ]
    }
   ],
   "source": [
    "#-------------------------\n",
    "# Mean of Original dataset\n",
    "#-------------------------\n",
    "mean_list=[]\n",
    "for i in value_list:\n",
    "    mean_list.append(np.mean(i))\n",
    "total_mean_original = np.mean(np.mean(mean_list))\n",
    "total_mean_original\n",
    "\n",
    "\n",
    "#-------------------------------\n",
    "#Mean of random assigned dataset\n",
    "#-------------------------------\n",
    "mean_list_mc=[]\n",
    "\n",
    "for c in range(50):\n",
    "    n=50\n",
    "    Each_value = random_value(min_v, max_v, n)\n",
    "    mean_list_mc.append(np.mean(Each_value))\n",
    "total_mean_mc = np.mean(mean_list_mc)\n",
    "print(\"The mean of orginal dataset is:\",total_mean_original, \"The mean of random assigned dataset is:\",total_mean_mc)"
   ]
  },
  {
   "cell_type": "code",
   "execution_count": null,
   "metadata": {},
   "outputs": [],
   "source": []
  },
  {
   "cell_type": "markdown",
   "metadata": {},
   "source": [
    "Note: This result could be change for each group because we are using random numbers. But, the results are supposed to be different and in an acceptable range. "
   ]
  },
  {
   "cell_type": "markdown",
   "metadata": {},
   "source": [
    "Note: Please submit all files (Knap_Sizes, test_knapsack_solution, and Evaluation.ipynp files) as one zip file on the canvas. Please add IDs on the zip file. For example, 14325_34672_12345.zip"
   ]
  }
 ],
 "metadata": {
  "kernelspec": {
   "display_name": "Python 3",
   "language": "python",
   "name": "python3"
  },
  "language_info": {
   "codemirror_mode": {
    "name": "ipython",
    "version": 3
   },
   "file_extension": ".py",
   "mimetype": "text/x-python",
   "name": "python",
   "nbconvert_exporter": "python",
   "pygments_lexer": "ipython3",
   "version": "3.8.5"
  },
  "toc": {
   "nav_menu": {
    "height": "30px",
    "width": "252px"
   },
   "number_sections": true,
   "sideBar": true,
   "skip_h1_title": false,
   "toc_cell": false,
   "toc_position": {},
   "toc_section_display": "block",
   "toc_window_display": false
  }
 },
 "nbformat": 4,
 "nbformat_minor": 2
}

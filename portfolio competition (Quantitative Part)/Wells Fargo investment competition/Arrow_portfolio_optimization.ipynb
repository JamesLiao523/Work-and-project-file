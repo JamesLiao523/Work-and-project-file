{
 "cells": [
  {
   "cell_type": "markdown",
   "metadata": {},
   "source": [
    "## Portfolio Optimization\n",
    ">  Copyright © 2021 Arrow Capital investment competition team. All rights reserved."
   ]
  },
  {
   "cell_type": "code",
   "execution_count": 10,
   "metadata": {},
   "outputs": [],
   "source": [
    "import ffn\n",
    "import warnings\n",
    "import numpy as np\n",
    "import pandas as pd\n",
    "warnings.filterwarnings(\"ignore\")"
   ]
  },
  {
   "cell_type": "code",
   "execution_count": 11,
   "metadata": {},
   "outputs": [],
   "source": [
    "ticker_lists = \"NFLX,NVDA,BABA,BIDU\"   #輸入標的代號\n",
    "ranges = ticker_lists.split(\",\")\n",
    "start_date = \"2015-2-20\"    #輸入開始日期\n",
    "end_date = \"2021-02-20\"     #輸入結束日期\n",
    "#某股票若IPO日期大於開始日期，Portfolio一律以該股票上市日期開始往後計算\n",
    "portfolio = ffn.get(ticker_lists, start = start_date, end = end_date)\n",
    "portfolio_stats = portfolio.calc_stats()"
   ]
  },
  {
   "cell_type": "code",
   "execution_count": null,
   "metadata": {},
   "outputs": [],
   "source": [
    "\"NFLX,NVDA,BABA,BIDU,TWTR,TSLA,AAPL,AMZN,ENPH,FB,GOOG,FSLR,SEDG,AXP,BEN,ALXN,AMGN,ETN\" "
   ]
  },
  {
   "cell_type": "markdown",
   "metadata": {},
   "source": [
    "### Weighted Method"
   ]
  },
  {
   "cell_type": "code",
   "execution_count": 13,
   "metadata": {},
   "outputs": [
    {
     "name": "stdout",
     "output_type": "stream",
     "text": [
      "  Holdings\n",
      "1     NFLX\n",
      "2     NVDA\n",
      "3     BABA\n",
      "4     BIDU\n",
      "                     Mean-Variance     Equally_weighted  \\\n",
      "start          2015-02-20 00:00:00  2015-02-20 00:00:00   \n",
      "end            2021-02-19 00:00:00  2021-02-19 00:00:00   \n",
      "Annual_return              1.03779              0.74716   \n",
      "yearly_sharpe             0.482865             0.787743   \n",
      "avg_drawdown            -0.0821195           -0.0651916   \n",
      "yearly_vol                0.435119             0.505496   \n",
      "calmar                    0.262149             0.724034   \n",
      "\n",
      "              Equally_Risk_contribution   Inverse_Volatility  \\\n",
      "start               2015-02-20 00:00:00  2015-02-20 00:00:00   \n",
      "end                 2021-02-19 00:00:00  2021-02-19 00:00:00   \n",
      "Annual_return                    1.0201             0.856296   \n",
      "yearly_sharpe                  0.589855              0.65327   \n",
      "avg_drawdown                 -0.0780806           -0.0722828   \n",
      "yearly_vol                      0.46284             0.472104   \n",
      "calmar                         0.417909             0.519719   \n",
      "\n",
      "                           S&P 500  \n",
      "start          2015-02-20 00:00:00  \n",
      "end            2021-02-19 00:00:00  \n",
      "Annual_return             0.153732  \n",
      "yearly_sharpe             0.971146  \n",
      "avg_drawdown            -0.0171181  \n",
      "yearly_vol                0.123334  \n",
      "calmar                    0.318712  \n"
     ]
    }
   ],
   "source": [
    "# Mean-Variance weighted\n",
    "\n",
    "M_cal_table = portfolio_stats.stats.loc[[\"start\", \"end\", \"one_year\", \"yearly_sharpe\", \"avg_drawdown\", \"yearly_vol\", \"calmar\"], :]\n",
    "M_cal_table = M_cal_table.T\n",
    "\n",
    "M_cal_weights = portfolio.calc_mean_var_weights()\n",
    "M_cal_table[\"weight\"]=M_cal_weights\n",
    "M_cal_table = M_cal_table.T\n",
    "\n",
    "\n",
    "M_results = portfolio_stats.stats.iloc[0:2,0]\n",
    "M_results = pd.DataFrame(M_results)\n",
    "M_results.columns=[\"Mean-Variance\"]\n",
    "M_results = M_results.T\n",
    "\n",
    "M_results[\"one_year\"] = sum(M_cal_table.xs(\"one_year\") * M_cal_table.xs(\"weight\"))\n",
    "M_results[\"yearly_sharpe\"] = sum(M_cal_table.xs(\"yearly_sharpe\") * M_cal_table.xs(\"weight\"))\n",
    "M_results[\"avg_drawdown\"] = sum(M_cal_table.xs(\"avg_drawdown\") * M_cal_table.xs(\"weight\"))\n",
    "M_results[\"yearly_vol\"] = sum(M_cal_table.xs(\"yearly_vol\") * M_cal_table.xs(\"weight\"))\n",
    "M_results[\"calmar\"] = sum(M_cal_table.xs(\"calmar\") * M_cal_table.xs(\"weight\"))\n",
    "M_results = M_results.T\n",
    "\n",
    "# Equally weighted\n",
    "portfolio = ffn.get(ticker_lists,start = start_date, end = end_date)\n",
    "portfolio_stats = portfolio.calc_stats()\n",
    "E_cal_table = portfolio_stats.stats.loc[[\"start\", \"end\", \"one_year\", \"yearly_sharpe\", \"avg_drawdown\", \"yearly_vol\", \"calmar\"], :]\n",
    "E_cal_table = E_cal_table.T\n",
    "E_cal_weights = 1/len(ranges)\n",
    "E_cal_table[\"weight\"]= E_cal_weights\n",
    "E_cal_table = E_cal_table.T\n",
    "\n",
    "E_results = portfolio_stats.stats.iloc[0:2,0]\n",
    "E_results = pd.DataFrame(E_results)\n",
    "E_results.columns=[\"Equally_weighted\"]\n",
    "E_results = E_results.T\n",
    "\n",
    "E_results[\"one_year\"] = sum(E_cal_table.xs(\"one_year\") * E_cal_table.xs(\"weight\"))\n",
    "E_results[\"yearly_sharpe\"] = sum(E_cal_table.xs(\"yearly_sharpe\") * E_cal_table.xs(\"weight\"))\n",
    "E_results[\"avg_drawdown\"] = sum(E_cal_table.xs(\"avg_drawdown\") * E_cal_table.xs(\"weight\"))\n",
    "E_results[\"yearly_vol\"] = sum(E_cal_table.xs(\"yearly_vol\") * E_cal_table.xs(\"weight\"))\n",
    "E_results[\"calmar\"] = sum(E_cal_table.xs(\"calmar\") * E_cal_table.xs(\"weight\"))\n",
    "E_results = E_results.T\n",
    "\n",
    "# Equally-Risk contribution weighted\n",
    "\n",
    "\n",
    "ER_cal_table = portfolio_stats.stats.loc[[\"start\", \"end\", \"one_year\", \"yearly_sharpe\", \"avg_drawdown\", \"yearly_vol\", \"calmar\"], :]\n",
    "ER_cal_table = ER_cal_table.T\n",
    "\n",
    "ER_cal_weights = portfolio.calc_erc_weights()\n",
    "ER_cal_table[\"weight\"]=ER_cal_weights\n",
    "ER_cal_table = ER_cal_table.T\n",
    "\n",
    "\n",
    "ER_results = portfolio_stats.stats.iloc[0:2,0]\n",
    "ER_results = pd.DataFrame(ER_results)\n",
    "ER_results.columns=[\"Equally_Risk_contribution\"]\n",
    "ER_results = ER_results.T\n",
    "\n",
    "ER_results[\"one_year\"] = sum(ER_cal_table.xs(\"one_year\") * ER_cal_table.xs(\"weight\"))\n",
    "ER_results[\"yearly_sharpe\"] = sum(ER_cal_table.xs(\"yearly_sharpe\") * ER_cal_table.xs(\"weight\"))\n",
    "ER_results[\"avg_drawdown\"] = sum(ER_cal_table.xs(\"avg_drawdown\") * ER_cal_table.xs(\"weight\"))\n",
    "ER_results[\"yearly_vol\"] = sum(ER_cal_table.xs(\"yearly_vol\") * ER_cal_table.xs(\"weight\"))\n",
    "ER_results[\"calmar\"] = sum(ER_cal_table.xs(\"calmar\") * ER_cal_table.xs(\"weight\"))\n",
    "ER_results = ER_results.T\n",
    "\n",
    "# Inverse Volatility weighted\n",
    "\n",
    "IV_cal_table = portfolio_stats.stats.loc[[\"start\", \"end\", \"one_year\", \"yearly_sharpe\", \"avg_drawdown\", \"yearly_vol\", \"calmar\"], :]\n",
    "IV_cal_table = IV_cal_table.T\n",
    "\n",
    "IV_cal_weights = portfolio.calc_inv_vol_weights()\n",
    "IV_cal_table[\"weight\"]=IV_cal_weights\n",
    "IV_cal_table = IV_cal_table.T\n",
    "\n",
    "\n",
    "IV_results = portfolio_stats.stats.iloc[0:2,0]\n",
    "IV_results = pd.DataFrame(IV_results)\n",
    "IV_results.columns=[\"Inverse_Volatility\"]\n",
    "IV_results = IV_results.T\n",
    "\n",
    "IV_results[\"one_year\"] = sum(IV_cal_table.xs(\"one_year\") * IV_cal_table.xs(\"weight\"))\n",
    "IV_results[\"yearly_sharpe\"] = sum(IV_cal_table.xs(\"yearly_sharpe\") * IV_cal_table.xs(\"weight\"))\n",
    "IV_results[\"avg_drawdown\"] = sum(IV_cal_table.xs(\"avg_drawdown\") * IV_cal_table.xs(\"weight\"))\n",
    "IV_results[\"yearly_vol\"] = sum(IV_cal_table.xs(\"yearly_vol\") * IV_cal_table.xs(\"weight\"))\n",
    "IV_results[\"calmar\"] = sum(IV_cal_table.xs(\"calmar\") * IV_cal_table.xs(\"weight\"))\n",
    "IV_results = IV_results.T\n",
    "\n",
    "\n",
    "\n",
    "#Total output:\n",
    "M_results[\"Equally_weighted\"]=E_results\n",
    "M_results[\"Equally_Risk_contribution\"]=ER_results\n",
    "M_results[\"Inverse_Volatility\"]=IV_results\n",
    "\n",
    "benchmark = ffn.get(\"^GSPC\",start = start_date, end = end_date)\n",
    "benchmark_stats = benchmark.calc_stats()\n",
    "benchmark_stats = benchmark_stats.stats.loc[[\"start\", \"end\", \"one_year\", \"yearly_sharpe\", \"avg_drawdown\", \"yearly_vol\", \"calmar\"], :]\n",
    "\n",
    "M_results[\"S&P 500\"]=benchmark_stats\n",
    "M_results.rename(index={'one_year':'Annual_return'},inplace=True)\n",
    "\n",
    "Holdings = {'Holdings': ranges}\n",
    "Holdings = pd.DataFrame(Holdings)\n",
    "Holdings.index+=1\n",
    "\n",
    "print(Holdings)\n",
    "print(M_results)\n",
    "\n",
    "\n"
   ]
  },
  {
   "cell_type": "code",
   "execution_count": 8,
   "metadata": {},
   "outputs": [
    {
     "ename": "NameError",
     "evalue": "name 'PerformanceStats' is not defined",
     "output_type": "error",
     "traceback": [
      "\u001b[1;31m---------------------------------------------------------------------------\u001b[0m",
      "\u001b[1;31mNameError\u001b[0m                                 Traceback (most recent call last)",
      "\u001b[1;32m<ipython-input-8-fd2ccf4792e1>\u001b[0m in \u001b[0;36m<module>\u001b[1;34m\u001b[0m\n\u001b[1;32m----> 1\u001b[1;33m \u001b[0mPerformanceStats\u001b[0m\u001b[1;33m(\u001b[0m\u001b[0mprices\u001b[0m\u001b[1;33m)\u001b[0m\u001b[1;33m\u001b[0m\u001b[1;33m\u001b[0m\u001b[0m\n\u001b[0m",
      "\u001b[1;31mNameError\u001b[0m: name 'PerformanceStats' is not defined"
     ]
    }
   ],
   "source": [
    "PerformanceStats(prices)"
   ]
  },
  {
   "cell_type": "code",
   "execution_count": 13,
   "metadata": {},
   "outputs": [
    {
     "data": {
      "text/plain": [
       "nflx     5.040474e-11\n",
       "nvda     6.093453e-11\n",
       "baba     6.585911e-12\n",
       "bidu     2.103343e-01\n",
       "twtr     0.000000e+00\n",
       "tsla     0.000000e+00\n",
       "aapl     0.000000e+00\n",
       "amzn     2.098746e-10\n",
       "enph     0.000000e+00\n",
       "fb       0.000000e+00\n",
       "goog     0.000000e+00\n",
       "fslr     0.000000e+00\n",
       "sedg     0.000000e+00\n",
       "msft     0.000000e+00\n",
       "brkb     1.696475e-09\n",
       "jnj      3.456497e-01\n",
       "jpm      0.000000e+00\n",
       "hd       0.000000e+00\n",
       "ma       0.000000e+00\n",
       "pypl     0.000000e+00\n",
       "crm      0.000000e+00\n",
       "adbe     9.338061e-12\n",
       "dis      3.692803e-01\n",
       "cmcsa    7.473565e-02\n",
       "dtype: float64"
      ]
     },
     "execution_count": 13,
     "metadata": {},
     "output_type": "execute_result"
    }
   ],
   "source": [
    "M_cal_weights"
   ]
  },
  {
   "cell_type": "markdown",
   "metadata": {},
   "source": [
    "### export csv"
   ]
  },
  {
   "cell_type": "code",
   "execution_count": 12,
   "metadata": {},
   "outputs": [],
   "source": [
    "M_WEIGHTS=[]\n",
    "for i in M_cal_weights:\n",
    "    i = '{:.10f}'.format(i)\n",
    "    M_WEIGHTS.append(i)\n",
    "    \n",
    "ER_WEIGHTS=[]\n",
    "for i in ER_cal_weights:\n",
    "    i = '{:.10f}'.format(i)\n",
    "    ER_WEIGHTS.append(i)\n",
    "    \n",
    "IV_WEIGHTS=[]\n",
    "for i in IV_cal_weights:\n",
    "    i = '{:.10f}'.format(i)\n",
    "    IV_WEIGHTS.append(i)\n",
    "\n",
    "Holdings[\"Mean Variance weighted\"]=M_WEIGHTS\n",
    "Holdings[\"Equally-Risk contribution weighted\"]=ER_WEIGHTS\n",
    "Holdings[\"Inverse_weights\"]=IV_WEIGHTS\n",
    "\n",
    "\n",
    "M_results = M_results.append(Holdings)\n",
    "M_results.to_csv(\"test.csv\")  #輸出名稱要改，不然會覆蓋就檔名\n",
    "    \n"
   ]
  }
 ],
 "metadata": {
  "kernelspec": {
   "display_name": "Python 3",
   "language": "python",
   "name": "python3"
  },
  "language_info": {
   "codemirror_mode": {
    "name": "ipython",
    "version": 3
   },
   "file_extension": ".py",
   "mimetype": "text/x-python",
   "name": "python",
   "nbconvert_exporter": "python",
   "pygments_lexer": "ipython3",
   "version": "3.8.5"
  }
 },
 "nbformat": 4,
 "nbformat_minor": 4
}

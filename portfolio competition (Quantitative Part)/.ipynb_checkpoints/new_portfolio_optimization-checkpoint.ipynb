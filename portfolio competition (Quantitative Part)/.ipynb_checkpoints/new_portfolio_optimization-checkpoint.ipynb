{
 "cells": [
  {
   "cell_type": "markdown",
   "metadata": {},
   "source": [
    "## Portfolio Optimization\n",
    ">  Copyright © 2021 Arrow Capital investment competition team. All rights reserved."
   ]
  },
  {
   "cell_type": "code",
   "execution_count": null,
   "metadata": {},
   "outputs": [],
   "source": [
    "!pip install ffn  #install first"
   ]
  },
  {
   "cell_type": "code",
   "execution_count": 1,
   "metadata": {},
   "outputs": [],
   "source": [
    "import ffn\n",
    "import warnings\n",
    "import numpy as np\n",
    "import pandas as pd\n",
    "warnings.filterwarnings(\"ignore\")"
   ]
  },
  {
   "cell_type": "code",
   "execution_count": 2,
   "metadata": {},
   "outputs": [],
   "source": [
    "ticker_lists = \"2330.tw, BABA, TCEHY, 005930.KS, NPN.JO, RELIANCE.BO, JD, 0939.HK, 2318.HK,BIIB,CMCSA,VRTX,NUAN,CREE\"   #輸入標的代號\n",
    "ranges = ticker_lists.split(\",\")\n",
    "start_date = \"2018-12-12\"    #輸入開始日期\n",
    "end_date = \"2021-02-03\"     #輸入結束日期\n",
    "#某股票若IPO日期大於開始日期，Portfolio一律以該股票上市日期開始往後計算"
   ]
  },
  {
   "cell_type": "markdown",
   "metadata": {},
   "source": [
    "### Weighted Method"
   ]
  },
  {
   "cell_type": "code",
   "execution_count": 3,
   "metadata": {},
   "outputs": [
    {
     "ename": "NameError",
     "evalue": "name 'ffn' is not defined",
     "output_type": "error",
     "traceback": [
      "\u001b[1;31m---------------------------------------------------------------------------\u001b[0m",
      "\u001b[1;31mNameError\u001b[0m                                 Traceback (most recent call last)",
      "\u001b[1;32m<ipython-input-3-c80a2b93c9c0>\u001b[0m in \u001b[0;36m<module>\u001b[1;34m\u001b[0m\n\u001b[0;32m      1\u001b[0m \u001b[1;31m# Mean-Variance weighted\u001b[0m\u001b[1;33m\u001b[0m\u001b[1;33m\u001b[0m\u001b[1;33m\u001b[0m\u001b[0m\n\u001b[0;32m      2\u001b[0m \u001b[1;33m\u001b[0m\u001b[0m\n\u001b[1;32m----> 3\u001b[1;33m \u001b[0mportfolio\u001b[0m \u001b[1;33m=\u001b[0m \u001b[0mffn\u001b[0m\u001b[1;33m.\u001b[0m\u001b[0mget\u001b[0m\u001b[1;33m(\u001b[0m\u001b[0mticker_lists\u001b[0m\u001b[1;33m,\u001b[0m\u001b[0mstart\u001b[0m \u001b[1;33m=\u001b[0m \u001b[0mstart_date\u001b[0m\u001b[1;33m,\u001b[0m \u001b[0mend\u001b[0m \u001b[1;33m=\u001b[0m \u001b[0mend_date\u001b[0m\u001b[1;33m)\u001b[0m\u001b[1;33m\u001b[0m\u001b[1;33m\u001b[0m\u001b[0m\n\u001b[0m\u001b[0;32m      4\u001b[0m \u001b[0mportfolio_stats\u001b[0m \u001b[1;33m=\u001b[0m \u001b[0mportfolio\u001b[0m\u001b[1;33m.\u001b[0m\u001b[0mcalc_stats\u001b[0m\u001b[1;33m(\u001b[0m\u001b[1;33m)\u001b[0m\u001b[1;33m\u001b[0m\u001b[1;33m\u001b[0m\u001b[0m\n\u001b[0;32m      5\u001b[0m \u001b[0mM_cal_table\u001b[0m \u001b[1;33m=\u001b[0m \u001b[0mportfolio_stats\u001b[0m\u001b[1;33m.\u001b[0m\u001b[0mstats\u001b[0m\u001b[1;33m.\u001b[0m\u001b[0mloc\u001b[0m\u001b[1;33m[\u001b[0m\u001b[1;33m[\u001b[0m\u001b[1;34m\"start\"\u001b[0m\u001b[1;33m,\u001b[0m \u001b[1;34m\"end\"\u001b[0m\u001b[1;33m,\u001b[0m \u001b[1;34m\"one_year\"\u001b[0m\u001b[1;33m,\u001b[0m \u001b[1;34m\"yearly_sharpe\"\u001b[0m\u001b[1;33m,\u001b[0m \u001b[1;34m\"avg_drawdown\"\u001b[0m\u001b[1;33m,\u001b[0m \u001b[1;34m\"yearly_vol\"\u001b[0m\u001b[1;33m,\u001b[0m \u001b[1;34m\"calmar\"\u001b[0m\u001b[1;33m]\u001b[0m\u001b[1;33m,\u001b[0m \u001b[1;33m:\u001b[0m\u001b[1;33m]\u001b[0m\u001b[1;33m\u001b[0m\u001b[1;33m\u001b[0m\u001b[0m\n",
      "\u001b[1;31mNameError\u001b[0m: name 'ffn' is not defined"
     ]
    }
   ],
   "source": [
    "# Mean-Variance weighted\n",
    "\n",
    "portfolio = ffn.get(ticker_lists,start = start_date, end = end_date)\n",
    "portfolio_stats = portfolio.calc_stats()\n",
    "M_cal_table = portfolio_stats.stats.loc[[\"start\", \"end\", \"one_year\", \"yearly_sharpe\", \"avg_drawdown\", \"yearly_vol\", \"calmar\"], :]\n",
    "M_cal_table = M_cal_table.T\n",
    "\n",
    "M_cal_weights = portfolio.calc_mean_var_weights()\n",
    "M_cal_table[\"weight\"]=M_cal_weights\n",
    "M_cal_table = M_cal_table.T\n",
    "\n",
    "\n",
    "M_results = portfolio_stats.stats.iloc[0:2,0]\n",
    "M_results = pd.DataFrame(M_results)\n",
    "M_results.columns=[\"Mean-Variance\"]\n",
    "M_results = M_results.T\n",
    "\n",
    "M_results[\"one_year\"] = sum(M_cal_table.xs(\"one_year\") * M_cal_table.xs(\"weight\"))\n",
    "M_results[\"yearly_sharpe\"] = sum(M_cal_table.xs(\"yearly_sharpe\") * M_cal_table.xs(\"weight\"))\n",
    "M_results[\"avg_drawdown\"] = sum(M_cal_table.xs(\"avg_drawdown\") * M_cal_table.xs(\"weight\"))\n",
    "M_results[\"yearly_vol\"] = sum(M_cal_table.xs(\"yearly_vol\") * M_cal_table.xs(\"weight\"))\n",
    "M_results[\"calmar\"] = sum(M_cal_table.xs(\"calmar\") * M_cal_table.xs(\"weight\"))\n",
    "M_results = M_results.T\n",
    "\n",
    "# Equally weighted\n",
    "portfolio = ffn.get(ticker_lists,start = start_date, end = end_date)\n",
    "portfolio_stats = portfolio.calc_stats()\n",
    "E_cal_table = portfolio_stats.stats.loc[[\"start\", \"end\", \"one_year\", \"yearly_sharpe\", \"avg_drawdown\", \"yearly_vol\", \"calmar\"], :]\n",
    "E_cal_table = E_cal_table.T\n",
    "E_cal_table[\"weight\"]= 1/len(ranges)\n",
    "E_cal_table = E_cal_table.T\n",
    "\n",
    "E_results = portfolio_stats.stats.iloc[0:2,0]\n",
    "E_results = pd.DataFrame(E_results)\n",
    "E_results.columns=[\"Equally_weighted\"]\n",
    "E_results = E_results.T\n",
    "\n",
    "E_results[\"one_year\"] = sum(E_cal_table.xs(\"one_year\") * E_cal_table.xs(\"weight\"))\n",
    "E_results[\"yearly_sharpe\"] = sum(E_cal_table.xs(\"yearly_sharpe\") * E_cal_table.xs(\"weight\"))\n",
    "E_results[\"avg_drawdown\"] = sum(E_cal_table.xs(\"avg_drawdown\") * E_cal_table.xs(\"weight\"))\n",
    "E_results[\"yearly_vol\"] = sum(E_cal_table.xs(\"yearly_vol\") * E_cal_table.xs(\"weight\"))\n",
    "E_results[\"calmar\"] = sum(E_cal_table.xs(\"calmar\") * E_cal_table.xs(\"weight\"))\n",
    "E_results = E_results.T\n",
    "\n",
    "# Equally-Risk contribution weighted\n",
    "\n",
    "\n",
    "ER_cal_table = portfolio_stats.stats.loc[[\"start\", \"end\", \"one_year\", \"yearly_sharpe\", \"avg_drawdown\", \"yearly_vol\", \"calmar\"], :]\n",
    "ER_cal_table = ER_cal_table.T\n",
    "\n",
    "ER_cal_weights = portfolio.calc_erc_weights()\n",
    "ER_cal_table[\"weight\"]=ER_cal_weights\n",
    "ER_cal_table = ER_cal_table.T\n",
    "\n",
    "\n",
    "ER_results = portfolio_stats.stats.iloc[0:2,0]\n",
    "ER_results = pd.DataFrame(ER_results)\n",
    "ER_results.columns=[\"Equally_Risk_contribution\"]\n",
    "ER_results = ER_results.T\n",
    "\n",
    "ER_results[\"one_year\"] = sum(ER_cal_table.xs(\"one_year\") * ER_cal_table.xs(\"weight\"))\n",
    "ER_results[\"yearly_sharpe\"] = sum(ER_cal_table.xs(\"yearly_sharpe\") * ER_cal_table.xs(\"weight\"))\n",
    "ER_results[\"avg_drawdown\"] = sum(ER_cal_table.xs(\"avg_drawdown\") * ER_cal_table.xs(\"weight\"))\n",
    "ER_results[\"yearly_vol\"] = sum(ER_cal_table.xs(\"yearly_vol\") * ER_cal_table.xs(\"weight\"))\n",
    "ER_results[\"calmar\"] = sum(ER_cal_table.xs(\"calmar\") * ER_cal_table.xs(\"weight\"))\n",
    "ER_results = ER_results.T\n",
    "\n",
    "# Inverse Volatility weighted\n",
    "\n",
    "IV_cal_table = portfolio_stats.stats.loc[[\"start\", \"end\", \"one_year\", \"yearly_sharpe\", \"avg_drawdown\", \"yearly_vol\", \"calmar\"], :]\n",
    "IV_cal_table = IV_cal_table.T\n",
    "\n",
    "IV_cal_weights = portfolio.calc_inv_vol_weights()\n",
    "IV_cal_table[\"weight\"]=IV_cal_weights\n",
    "IV_cal_table = IV_cal_table.T\n",
    "\n",
    "\n",
    "IV_results = portfolio_stats.stats.iloc[0:2,0]\n",
    "IV_results = pd.DataFrame(IV_results)\n",
    "IV_results.columns=[\"Inverse_Volatility\"]\n",
    "IV_results = IV_results.T\n",
    "\n",
    "IV_results[\"one_year\"] = sum(IV_cal_table.xs(\"one_year\") * IV_cal_table.xs(\"weight\"))\n",
    "IV_results[\"yearly_sharpe\"] = sum(IV_cal_table.xs(\"yearly_sharpe\") * IV_cal_table.xs(\"weight\"))\n",
    "IV_results[\"avg_drawdown\"] = sum(IV_cal_table.xs(\"avg_drawdown\") * IV_cal_table.xs(\"weight\"))\n",
    "IV_results[\"yearly_vol\"] = sum(IV_cal_table.xs(\"yearly_vol\") * IV_cal_table.xs(\"weight\"))\n",
    "IV_results[\"calmar\"] = sum(IV_cal_table.xs(\"calmar\") * IV_cal_table.xs(\"weight\"))\n",
    "IV_results = IV_results.T\n",
    "\n",
    "\n",
    "\n",
    "#Total output:\n",
    "M_results[\"Equally_weighted\"]=E_results\n",
    "M_results[\"Equally_Risk_contribution\"]=ER_results\n",
    "M_results[\"Inverse_Volatility\"]=IV_results\n",
    "\n",
    "benchmark = ffn.get(\"^GSPC\",start = start_date, end = end_date)\n",
    "benchmark_stats = benchmark.calc_stats()\n",
    "benchmark_stats = benchmark_stats.stats.loc[[\"start\", \"end\", \"one_year\", \"yearly_sharpe\", \"avg_drawdown\", \"yearly_vol\", \"calmar\"], :]\n",
    "\n",
    "M_results[\"S&P 500\"]=benchmark_stats\n",
    "M_results.rename(index={'one_year':'Annual_return'},inplace=True)\n",
    "\n",
    "Holdings = {'Holdings': ranges}\n",
    "Holdings = pd.DataFrame(Holdings)\n",
    "Holdings.index+=1\n",
    "\n",
    "print(Holdings)\n",
    "print(M_results)\n",
    "\n",
    "\n"
   ]
  },
  {
   "cell_type": "code",
   "execution_count": null,
   "metadata": {},
   "outputs": [],
   "source": []
  }
 ],
 "metadata": {
  "kernelspec": {
   "display_name": "Python 3",
   "language": "python",
   "name": "python3"
  },
  "language_info": {
   "codemirror_mode": {
    "name": "ipython",
    "version": 3
   },
   "file_extension": ".py",
   "mimetype": "text/x-python",
   "name": "python",
   "nbconvert_exporter": "python",
   "pygments_lexer": "ipython3",
   "version": "3.8.5"
  }
 },
 "nbformat": 4,
 "nbformat_minor": 4
}

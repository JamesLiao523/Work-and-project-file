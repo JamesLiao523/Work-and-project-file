{
 "cells": [
  {
   "cell_type": "markdown",
   "metadata": {},
   "source": [
    "## Beta- Each Ticker to Portfolio/Fund - Rolling selection"
   ]
  },
  {
   "cell_type": "markdown",
   "metadata": {},
   "source": [
    "### import packages"
   ]
  },
  {
   "cell_type": "code",
   "execution_count": 1,
   "metadata": {},
   "outputs": [],
   "source": [
    "import ffn\n",
    "import warnings\n",
    "import numpy as np\n",
    "import pandas as pd\n",
    "import statistics as st\n",
    "pd.set_option('display.float_format',lambda x : '%.7f' % x)\n",
    "warnings.filterwarnings(\"ignore\")"
   ]
  },
  {
   "cell_type": "markdown",
   "metadata": {},
   "source": [
    "### set weight"
   ]
  },
  {
   "cell_type": "code",
   "execution_count": 2,
   "metadata": {},
   "outputs": [],
   "source": [
    "ticker_dict = {}\n",
    "ticker_dict[\"ben\"]= 0.395342633\n",
    "ticker_dict[\"alxn\"]= 0.165616348\n",
    "ticker_dict[\"twtr\"]= 0.080393952\n",
    "ticker_dict[\"fslr\"] = 0.057603788\n",
    "ticker_dict[\"bidu\"] = 0.051790624\n",
    "ticker_dict[\"axp\"] = 0.050945364\n",
    "ticker_dict[\"etn\"] = 0.048031878\n",
    "ticker_dict[\"amgn\"] = 0.03021901\n",
    "ticker_dict[\"aapl\"] = 0.03028385\n",
    "ticker_dict[\"enph\"] = 0.021541526\n",
    "ticker_dict[\"fb\"] = 0.018584452\n",
    "ticker_dict[\"baba\"] = 0.015565296\n",
    "ticker_dict[\"sedg\"] = 0.011624454\n",
    "ticker_dict[\"nflx\"] = 0.006921963\n",
    "ticker_dict[\"nvda\"] = 0.006137999\n",
    "ticker_dict[\"tsla\"] = 0.005327053\n",
    "ticker_dict[\"goog\"] = 0.002887009\n",
    "ticker_dict[\"amzn\"] = 0.001182802"
   ]
  },
  {
   "cell_type": "markdown",
   "metadata": {},
   "source": [
    "### Set ticker and time"
   ]
  },
  {
   "cell_type": "code",
   "execution_count": 3,
   "metadata": {},
   "outputs": [],
   "source": [
    "ticker_lists = \"NFLX,NVDA,BABA,BIDU,TWTR,TSLA,AAPL,AMZN,ENPH,FB,GOOG,FSLR,SEDG,AXP,BEN,ALXN,AMGN,ETN\"\n",
    "ranges = ticker_lists.split(\",\")\n",
    "start_date = \"2015-2-20\"\n"
   ]
  },
  {
   "cell_type": "markdown",
   "metadata": {},
   "source": [
    "### Calculation Beta"
   ]
  },
  {
   "cell_type": "code",
   "execution_count": 4,
   "metadata": {},
   "outputs": [
    {
     "name": "stdout",
     "output_type": "stream",
     "text": [
      "Annual_Return:0.5797063200843735 \n",
      " dayily_vol:0.24193539505919082 \n",
      " Max beta is:alxn   1.2901563\n",
      "dtype: object \n",
      " Adjusted ticker List:['nflx', 'nvda', 'baba', 'bidu', 'twtr', 'tsla', 'aapl', 'amzn', 'enph', 'fb', 'goog', 'fslr', 'sedg', 'axp', 'ben', 'amgn', 'etn'] \n",
      "\n",
      "\n",
      "Annual_Return:0.5834303210620642 \n",
      " dayily_vol:0.23002254815883386 \n",
      " Max beta is:enph   1.4541007\n",
      "dtype: object \n",
      " Adjusted ticker List:['nflx', 'nvda', 'baba', 'bidu', 'twtr', 'tsla', 'aapl', 'amzn', 'fb', 'goog', 'fslr', 'sedg', 'axp', 'ben', 'amgn', 'etn'] \n",
      "\n",
      "\n",
      "Annual_Return:0.5505461874269011 \n",
      " dayily_vol:0.22851523017157477 \n",
      " Max beta is:sedg   1.2426233\n",
      "dtype: object \n",
      " Adjusted ticker List:['nflx', 'nvda', 'baba', 'bidu', 'twtr', 'tsla', 'aapl', 'amzn', 'fb', 'goog', 'fslr', 'axp', 'ben', 'amgn', 'etn'] \n",
      "\n",
      "\n",
      "Annual_Return:0.5318440223703629 \n",
      " dayily_vol:0.2264416263691445 \n",
      " Max beta is:nvda   1.2240646\n",
      "dtype: object \n",
      " Adjusted ticker List:['nflx', 'baba', 'bidu', 'twtr', 'tsla', 'aapl', 'amzn', 'fb', 'goog', 'fslr', 'axp', 'ben', 'amgn', 'etn'] \n",
      "\n",
      "\n",
      "Annual_Return:0.5149082472020046 \n",
      " dayily_vol:0.22503250602481262 \n",
      " Max beta is:twtr   1.2115463\n",
      "dtype: object \n",
      " Adjusted ticker List:['nflx', 'baba', 'bidu', 'tsla', 'aapl', 'amzn', 'fb', 'goog', 'fslr', 'axp', 'ben', 'amgn', 'etn'] \n",
      "\n",
      "\n",
      "Annual_Return:0.488414677581964 \n",
      " dayily_vol:0.22359240541488945 \n",
      " Max beta is:bidu   1.2223315\n",
      "dtype: object \n",
      " Adjusted ticker List:['nflx', 'baba', 'tsla', 'aapl', 'amzn', 'fb', 'goog', 'fslr', 'axp', 'ben', 'amgn', 'etn'] \n",
      "\n",
      "\n",
      "Annual_Return:0.36432145149260675 \n",
      " dayily_vol:0.21904324458325905 \n",
      " Max beta is:fslr   1.1619820\n",
      "dtype: object \n",
      " Adjusted ticker List:['nflx', 'baba', 'tsla', 'aapl', 'amzn', 'fb', 'goog', 'axp', 'ben', 'amgn', 'etn'] \n",
      "\n",
      "\n",
      "Annual_Return:0.3424142478421166 \n",
      " dayily_vol:0.218214381063687 \n",
      " Max beta is:ben   1.1553363\n",
      "dtype: object \n",
      " Adjusted ticker List:['nflx', 'baba', 'tsla', 'aapl', 'amzn', 'fb', 'goog', 'axp', 'amgn', 'etn'] \n",
      "\n",
      "\n",
      "Annual_Return:0.375341260377283 \n",
      " dayily_vol:0.21500098847113921 \n",
      " Max beta is:tsla   1.2425750\n",
      "dtype: object \n",
      " Adjusted ticker List:['nflx', 'baba', 'aapl', 'amzn', 'fb', 'goog', 'axp', 'amgn', 'etn'] \n",
      "\n",
      "\n",
      "Annual_Return:0.30128882476860475 \n",
      " dayily_vol:0.21366735091506311 \n",
      " Max beta is:nflx   1.1754325\n",
      "dtype: object \n",
      " Adjusted ticker List:['baba', 'aapl', 'amzn', 'fb', 'goog', 'axp', 'amgn', 'etn'] \n",
      "\n",
      "\n",
      "Annual_Return:0.2865544310222987 \n",
      " dayily_vol:0.21288805444492168 \n",
      " Max beta is:fb   1.1127088\n",
      "dtype: object \n",
      " Adjusted ticker List:['baba', 'aapl', 'amzn', 'goog', 'axp', 'amgn', 'etn'] \n",
      "\n",
      "\n",
      "Annual_Return:0.2822658787450192 \n",
      " dayily_vol:0.21161248908617336 \n",
      " Max beta is:axp   1.1377152\n",
      "dtype: object \n",
      " Adjusted ticker List:['baba', 'aapl', 'amzn', 'goog', 'amgn', 'etn'] \n",
      "\n",
      "\n",
      "Annual_Return:0.3301135811633662 \n",
      " dayily_vol:0.21284527166049866 \n",
      " Max beta is:aapl   1.0438767\n",
      "dtype: object \n",
      " Adjusted ticker List:['baba', 'amzn', 'goog', 'amgn', 'etn'] \n",
      "\n",
      "\n",
      "Annual_Return:0.2923234927890359 \n",
      " dayily_vol:0.21221139016352447 \n",
      " Max beta is:baba   1.0488799\n",
      "dtype: object \n",
      " Adjusted ticker List:['amzn', 'goog', 'amgn', 'etn'] \n",
      "\n",
      "\n",
      "Annual_Return:0.3072384195722895 \n",
      " dayily_vol:0.21493568621127546 \n",
      " Max beta is:amgn   1.0345342\n",
      "dtype: object \n",
      " Adjusted ticker List:['amzn', 'goog', 'etn'] \n",
      "\n",
      "\n",
      "Annual_Return:0.43376481104651354 \n",
      " dayily_vol:0.2275952731250339 \n",
      " Max beta is:etn   1.0316743\n",
      "dtype: object \n",
      " Adjusted ticker List:['amzn', 'goog'] \n",
      "\n",
      "\n",
      "Annual_Return:0.5064999018567613 \n",
      " dayily_vol:0.258058808486589 \n",
      " Max beta is:amzn   1.0001034\n",
      "dtype: object \n",
      " Adjusted ticker List:['goog'] \n",
      "\n",
      "\n"
     ]
    }
   ],
   "source": [
    "while len(ranges) > 1:\n",
    "    portfolio = ffn.get(ranges, start = start_date)\n",
    "    \n",
    "     \n",
    "    # Create Fund/portfolio with existing weight\n",
    "    portfolio[\"Fund\"] = 0\n",
    "    for i in ranges:    \n",
    "        i = i.lower()\n",
    "        portfolio[\"Fund\"] += (portfolio[i] * ticker_dict[i] )\n",
    "    \n",
    "    \n",
    "    portfolio_stats = portfolio.calc_stats()\n",
    "    \n",
    "    #return correlation\n",
    "    corr = portfolio.pct_change().corr()  \n",
    "    \n",
    "    #vol fraction\n",
    "    Beta_table = portfolio_stats.stats.loc[[\"daily_vol\"], :]\n",
    "    returns = portfolio[\"Fund\"].pct_change()\n",
    "    Beta_table[\"Fund\"] = (returns.std()) * np.sqrt(252)  #annualize volitility\n",
    "    Beta_table = Beta_table.T\n",
    "    Beta_table[\"D\"] =  Beta_table.loc[\"Fund\"]['daily_vol']  #create Denominator\n",
    "    Beta_table[\"frac\"] = Beta_table[\"daily_vol\"]/Beta_table[\"D\"] #create volitility porpotion\n",
    "    \n",
    "    \n",
    "    #combine to correlation matrix\n",
    "    corr[\"frac\"] = Beta_table[\"frac\"]\n",
    "    Fund = corr[\"Fund\"] *  corr[\"frac\"]\n",
    "    \n",
    "    #print(Fund,\"\\n\")\n",
    "    \n",
    "    \n",
    "    # Selection methodology\n",
    "    Fund = Fund.loc[Fund != Fund[\"Fund\"]]\n",
    "    max_beta = Fund.max()\n",
    "    Fund_ticker = Fund.loc[Fund!=abs(Fund.max())]\n",
    "    \n",
    "    # update ranges\n",
    "    ranges = []\n",
    "    for i in Fund_ticker.index:   \n",
    "        ranges.append(str(i))\n",
    "        \n",
    "    \n",
    "    max_ticker = Fund.loc[Fund == max_beta] \n",
    "    \n",
    "    # locate annual return of porrtfolio\n",
    "    Annual_return = portfolio_stats.stats\n",
    "    Annual_return = pd.DataFrame(Annual_return)\n",
    "    Annual_return = Annual_return.T\n",
    "    Annual_return = Annual_return[\"one_year\"][\"Fund\"]\n",
    "    \n",
    "    \n",
    "    print(\"Annual_Return:%s\" %Annual_return,\"\\n\", \"dayily_vol:%s\" %Beta_table.loc[\"Fund\"]['daily_vol'],\"\\n\", \"Max beta is:%s\" %max_ticker,\"\\n\", \"Adjusted ticker List:%s\" %ranges ,\"\\n\"\"\\n\")"
   ]
  },
  {
   "cell_type": "markdown",
   "metadata": {},
   "source": [
    "## Beta- Ticker to S&P 500"
   ]
  },
  {
   "cell_type": "markdown",
   "metadata": {},
   "source": [
    "### Set ticker + S&P"
   ]
  },
  {
   "cell_type": "code",
   "execution_count": 5,
   "metadata": {},
   "outputs": [],
   "source": [
    "ticker_lists_sp = \"NFLX,NVDA,BABA,BIDU,TWTR,TSLA,AAPL,AMZN,ENPH,FB,GOOG,FSLR,SEDG,AXP,BEN,ALXN,AMGN,ETN,^GSPC\"\n",
    "ranges_sp = ticker_lists_sp.split(\",\")\n",
    "start_date = \"2015-2-20\""
   ]
  },
  {
   "cell_type": "markdown",
   "metadata": {},
   "source": [
    "### Calculate beta"
   ]
  },
  {
   "cell_type": "code",
   "execution_count": 6,
   "metadata": {},
   "outputs": [
    {
     "name": "stdout",
     "output_type": "stream",
     "text": [
      "nflx   1.0380578\n",
      "nvda   1.4798336\n",
      "baba   0.9087553\n",
      "bidu   0.9833671\n",
      "twtr   1.2049169\n",
      "tsla   1.2665978\n",
      "aapl   1.1786025\n",
      "amzn   0.9644161\n",
      "enph   1.5327414\n",
      "fb     1.0804713\n",
      "goog   1.0678727\n",
      "fslr   1.0795190\n",
      "sedg   1.3373298\n",
      "axp    1.2577915\n",
      "ben    1.1489540\n",
      "alxn   0.9975340\n",
      "amgn   0.9135000\n",
      "etn    1.1969658\n",
      "gspc   1.0000000\n",
      "Name: beta, dtype: object\n"
     ]
    }
   ],
   "source": [
    "portfolio_sp = ffn.get(ranges_sp, start = start_date)\n",
    "portfolio_sp_stats = portfolio_sp.calc_stats()\n",
    "\n",
    "corr_sp = portfolio_sp.pct_change().corr()[\"gspc\"]\n",
    "\n",
    "\n",
    "Beta_table_sp = portfolio_sp_stats.stats.loc[[\"daily_vol\"], :]\n",
    "\n",
    "Beta_table_sp = Beta_table_sp.T\n",
    "Beta_table_sp[\"D\"] =  Beta_table_sp.iloc[-1,0]  #create Denominator\n",
    "Beta_table_sp[\"frac\"] = Beta_table_sp[\"daily_vol\"]/Beta_table_sp[\"D\"] #create volitility porpotion\n",
    "\n",
    "Fund_sp_total = pd.merge(corr_sp, Beta_table_sp[\"frac\"], left_index=True, right_index=True)\n",
    "Fund_sp_total[\"beta\"] = (Fund_sp_total[\"gspc\"]*Fund_sp_total[\"frac\"])\n",
    "\n",
    "print(Fund_sp_total[\"beta\"])\n",
    "\n"
   ]
  },
  {
   "cell_type": "code",
   "execution_count": null,
   "metadata": {
    "collapsed": true
   },
   "outputs": [],
   "source": []
  },
  {
   "cell_type": "code",
   "execution_count": null,
   "metadata": {
    "collapsed": true
   },
   "outputs": [],
   "source": []
  },
  {
   "cell_type": "markdown",
   "metadata": {},
   "source": [
    "### s&p 500 check"
   ]
  },
  {
   "cell_type": "code",
   "execution_count": 8,
   "metadata": {},
   "outputs": [
    {
     "name": "stdout",
     "output_type": "stream",
     "text": [
      "Stat                 gspc\n",
      "-------------------  ----------\n",
      "Start                2015-02-20\n",
      "End                  2021-02-24\n",
      "Risk-free rate       0.00%\n",
      "\n",
      "Total Return         85.59%\n",
      "Daily Sharpe         0.65\n",
      "Daily Sortino        0.96\n",
      "CAGR                 10.83%\n",
      "Max Drawdown         -33.92%\n",
      "Calmar Ratio         0.32\n",
      "\n",
      "MTD                  5.44%\n",
      "3m                   7.73%\n",
      "6m                   14.14%\n",
      "YTD                  4.27%\n",
      "1Y                   21.41%\n",
      "3Y (ann.)            12.13%\n",
      "5Y (ann.)            15.20%\n",
      "10Y (ann.)           -\n",
      "Since Incep. (ann.)  10.83%\n",
      "\n",
      "Daily Sharpe         0.65\n",
      "Daily Sortino        0.96\n",
      "Daily Mean (ann.)    12.05%\n",
      "Daily Vol (ann.)     18.64%\n",
      "Daily Skew           -0.68\n",
      "Daily Kurt           19.53\n",
      "Best Day             9.38%\n",
      "Worst Day            -11.98%\n",
      "\n",
      "Monthly Sharpe       0.77\n",
      "Monthly Sortino      1.32\n",
      "Monthly Mean (ann.)  11.49%\n",
      "Monthly Vol (ann.)   14.90%\n",
      "Monthly Skew         -0.35\n",
      "Monthly Kurt         1.49\n",
      "Best Month           12.68%\n",
      "Worst Month          -12.51%\n",
      "\n",
      "Yearly Sharpe        0.98\n",
      "Yearly Sortino       4.72\n",
      "Yearly Mean          12.02%\n",
      "Yearly Vol           12.30%\n",
      "Yearly Skew          -0.21\n",
      "Yearly Kurt          -0.17\n",
      "Best Year            28.88%\n",
      "Worst Year           -6.24%\n",
      "\n",
      "Avg. Drawdown        -1.72%\n",
      "Avg. Drawdown Days   20.05\n",
      "Avg. Up Month        3.08%\n",
      "Avg. Down Month      -3.57%\n",
      "Win Year %           83.33%\n",
      "Win 12m %            87.10%\n"
     ]
    }
   ],
   "source": [
    "test = \"^GSPC\"\n",
    "r = test.split(\",\")\n",
    "start_date = \"2015-2-20\"\n",
    "p = ffn.get(r, start = start_date)\n",
    "p = p.calc_stats()\n",
    "p.display()"
   ]
  },
  {
   "cell_type": "code",
   "execution_count": null,
   "metadata": {
    "collapsed": true
   },
   "outputs": [],
   "source": []
  }
 ],
 "metadata": {
  "kernelspec": {
   "display_name": "Python 3",
   "language": "python",
   "name": "python3"
  },
  "language_info": {
   "codemirror_mode": {
    "name": "ipython",
    "version": 3
   },
   "file_extension": ".py",
   "mimetype": "text/x-python",
   "name": "python",
   "nbconvert_exporter": "python",
   "pygments_lexer": "ipython3",
   "version": "3.8.5"
  }
 },
 "nbformat": 4,
 "nbformat_minor": 4
}

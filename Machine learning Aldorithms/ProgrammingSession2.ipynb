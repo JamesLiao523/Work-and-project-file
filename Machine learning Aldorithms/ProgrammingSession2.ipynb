{
 "cells": [
  {
   "cell_type": "markdown",
   "metadata": {
    "id": "dyqMJh1XI4tD"
   },
   "source": [
    "# Regression\n",
    "\n"
   ]
  },
  {
   "cell_type": "markdown",
   "metadata": {
    "id": "foNX98D9Kd6Q"
   },
   "source": [
    "### 1.Use linear_model.LinearRegression()"
   ]
  },
  {
   "cell_type": "markdown",
   "metadata": {
    "id": "js33uDxUJSnZ"
   },
   "source": [
    "#### 1-1 On sythetic dataset with noise"
   ]
  },
  {
   "cell_type": "code",
   "execution_count": 1,
   "metadata": {
    "id": "Y7tXa8WcI_6j"
   },
   "outputs": [],
   "source": [
    "import numpy as np\n",
    "import pandas as pd\n",
    "import random\n",
    "import matplotlib.pyplot as plt\n",
    "from sklearn.linear_model import LinearRegression\n",
    "from sklearn.model_selection import train_test_split"
   ]
  },
  {
   "cell_type": "code",
   "execution_count": 2,
   "metadata": {
    "id": "lo9CUqC8Jgzp"
   },
   "outputs": [],
   "source": [
    "#x range from 60 degree to 300 degree\n",
    "X = np.array([i*np.pi/180 for i in range(60,300,4)])\n",
    "\n",
    "#Y = sin(x) + noise\n",
    "y = np.sin(X) + np.random.normal(0,0.15,len(X))"
   ]
  },
  {
   "cell_type": "code",
   "execution_count": 3,
   "metadata": {
    "colab": {
     "base_uri": "https://localhost:8080/",
     "height": 282
    },
    "executionInfo": {
     "elapsed": 572,
     "status": "ok",
     "timestamp": 1612903001446,
     "user": {
      "displayName": "Zhiling Zhang",
      "photoUrl": "",
      "userId": "11652514744377731296"
     },
     "user_tz": 360
    },
    "id": "ejr7mVjBJiiF",
    "outputId": "1cd522e5-34c3-4d86-9ae5-e82dadcfc639"
   },
   "outputs": [
    {
     "data": {
      "text/plain": [
       "[<matplotlib.lines.Line2D at 0x7f8ff50e8430>]"
      ]
     },
     "execution_count": 3,
     "metadata": {},
     "output_type": "execute_result"
    },
    {
     "data": {
      "image/png": "[encoded data removed]",
      "text/plain": [
       "<Figure size 432x288 with 1 Axes>"
      ]
     },
     "metadata": {
      "needs_background": "light"
     },
     "output_type": "display_data"
    }
   ],
   "source": [
    "# train-test split - Also used in PS1\n",
    "X_tr, X_te, y_tr, y_te = train_test_split(X, y, test_size=0.33, random_state=42)\n",
    "\n",
    "\n",
    "# visualization of training Data\n",
    "plt.plot(X_tr,y_tr,'.')"
   ]
  },
  {
   "cell_type": "code",
   "execution_count": 4,
   "metadata": {
    "id": "58cGgZGUJj84"
   },
   "outputs": [],
   "source": [
    "# Reshaping to be column vectors - Must assign the reshaped vars -- Piazza Question\n",
    "X_tr,y_tr,X_te,y_te = X_tr.reshape(-1,1),y_tr.reshape(-1,1),X_te.reshape(-1,1),y_te.reshape(-1,1)"
   ]
  },
  {
   "cell_type": "code",
   "execution_count": 5,
   "metadata": {
    "colab": {
     "base_uri": "https://localhost:8080/"
    },
    "executionInfo": {
     "elapsed": 532,
     "status": "ok",
     "timestamp": 1612903005910,
     "user": {
      "displayName": "Zhiling Zhang",
      "photoUrl": "",
      "userId": "11652514744377731296"
     },
     "user_tz": 360
    },
    "id": "kU0TF3RyJmEe",
    "outputId": "1866bf62-95f2-4cf8-cd71-f47929288e06"
   },
   "outputs": [
    {
     "data": {
      "text/plain": [
       "LinearRegression()"
      ]
     },
     "execution_count": 5,
     "metadata": {},
     "output_type": "execute_result"
    }
   ],
   "source": [
    "#Define the Model to be used\n",
    "regr = LinearRegression()\n",
    "# Arguments for the Linear Regression Model\n",
    "    # 1.fit_intercept:bool, default=True  \n",
    "    # 2.normalize:bool, default=False\n",
    "    # 3.copy_X:bool, default=True\n",
    "    # 4.n_jobs:int, default=None\n",
    "\n",
    "\n",
    "#Train the linear model with the X & y training data using the \".fit(X_TrainingData,y_TrainingData)\" function\n",
    "regr.fit(X_tr, y_tr) "
   ]
  },
  {
   "cell_type": "code",
   "execution_count": 6,
   "metadata": {
    "colab": {
     "base_uri": "https://localhost:8080/"
    },
    "executionInfo": {
     "elapsed": 552,
     "status": "ok",
     "timestamp": 1612903008681,
     "user": {
      "displayName": "Zhiling Zhang",
      "photoUrl": "",
      "userId": "11652514744377731296"
     },
     "user_tz": 360
    },
    "id": "bHwwExZDJnwd",
    "outputId": "5f22a534-365f-4dde-f114-fcb2ec8f8253"
   },
   "outputs": [
    {
     "name": "stdout",
     "output_type": "stream",
     "text": [
      "Coefficients: \n",
      " [[-0.62090926]]\n",
      "Residual sum of squares: 0.06\n",
      "Variance score: 0.93\n"
     ]
    }
   ],
   "source": [
    "#print the coefficient\n",
    "print('Coefficients: \\n', regr.coef_)\n",
    "\n",
    "# The mean square error\n",
    "print(\"Residual sum of squares: %.2f\"% np.mean((regr.predict(X_te) - y_te) ** 2))\n",
    "\n",
    "# Explained variance score: 1 is perfect prediction\n",
    "print('Variance score: %.2f' % regr.score(X_te, y_te))"
   ]
  },
  {
   "cell_type": "code",
   "execution_count": 7,
   "metadata": {
    "colab": {
     "base_uri": "https://localhost:8080/",
     "height": 282
    },
    "executionInfo": {
     "elapsed": 617,
     "status": "ok",
     "timestamp": 1612903011145,
     "user": {
      "displayName": "Zhiling Zhang",
      "photoUrl": "",
      "userId": "11652514744377731296"
     },
     "user_tz": 360
    },
    "id": "6gdB1bozJpTy",
    "outputId": "12e5673f-69d3-4abb-ddb2-dd22d8f97926"
   },
   "outputs": [
    {
     "data": {
      "text/plain": [
       "[<matplotlib.lines.Line2D at 0x7f8ff51ecf40>]"
      ]
     },
     "execution_count": 7,
     "metadata": {},
     "output_type": "execute_result"
    },
    {
     "data": {
      "image/png": "[encoded data removed]",
      "text/plain": [
       "<Figure size 432x288 with 1 Axes>"
      ]
     },
     "metadata": {
      "needs_background": "light"
     },
     "output_type": "display_data"
    }
   ],
   "source": [
    "plt.plot(X_tr,y_tr,'.')\n",
    "plt.plot(X_te, regr.predict(X_te))"
   ]
  },
  {
   "cell_type": "markdown",
   "metadata": {
    "id": "YEzmKVUyJvpx"
   },
   "source": [
    "#### 1-2 On real dataset"
   ]
  },
  {
   "cell_type": "code",
   "execution_count": 8,
   "metadata": {
    "colab": {
     "base_uri": "https://localhost:8080/",
     "height": 333
    },
    "executionInfo": {
     "elapsed": 851,
     "status": "ok",
     "timestamp": 1612903016306,
     "user": {
      "displayName": "Zhiling Zhang",
      "photoUrl": "",
      "userId": "11652514744377731296"
     },
     "user_tz": 360
    },
    "id": "vFO3zpijJtZz",
    "outputId": "c87aeb33-26ac-4b3c-c0ff-54e74cbba778"
   },
   "outputs": [
    {
     "name": "stdout",
     "output_type": "stream",
     "text": [
      "Coefficients: \n",
      " [972.87627375]\n",
      "Residual sum of squares: 3934.07\n",
      "Variance score: 0.32\n"
     ]
    },
    {
     "data": {
      "image/png": "[encoded data removed]",
      "text/plain": [
       "<Figure size 432x288 with 1 Axes>"
      ]
     },
     "metadata": {
      "needs_background": "light"
     },
     "output_type": "display_data"
    }
   ],
   "source": [
    "#On real data set \n",
    "from sklearn import datasets, linear_model\n",
    "\n",
    "#Load a prebuilt dataset from sklearn.datasets\n",
    "diabetes = datasets.load_diabetes()\n",
    "\n",
    "\n",
    "# choose one feature from the dataset\n",
    "diabetes_X = diabetes.data[:, np.newaxis,2]\n",
    "\n",
    "#Uncomment and print both datasets to see the effect of 'np.newaxis', it reshapes the data to a column vector.\n",
    "#print(diabetes.data[:,2])\n",
    "#print(diabetes_X)\n",
    "\n",
    "# training set and test set\n",
    "dia_X_tr, dia_X_te, dia_y_tr, dia_y_te = train_test_split(diabetes_X, diabetes.target, test_size=0.33, random_state=42)\n",
    "\n",
    "#Define the model\n",
    "regr_real = linear_model.LinearRegression()\n",
    "\n",
    "#Train the model with the training data\n",
    "regr_real.fit(dia_X_tr, dia_y_tr)\n",
    "\n",
    "\n",
    "#Print the linear coefficent\n",
    "print('Coefficients: \\n', regr_real.coef_)\n",
    "\n",
    "#Print the sum of squares\n",
    "print(\"Residual sum of squares: %.2f\"\n",
    "      % np.mean((regr_real.predict(dia_X_te) - dia_y_te) ** 2))\n",
    "\n",
    "#Print the Variance score\n",
    "print('Variance score: %.2f' % regr_real.score(dia_X_te, dia_y_te))\n",
    "\n",
    "\n",
    "plt.plot(dia_X_te, dia_y_te,\".\")\n",
    "plt.plot(dia_X_te, regr_real.predict(dia_X_te))\n",
    "\n",
    "\n",
    "plt.show()\n"
   ]
  },
  {
   "cell_type": "markdown",
   "metadata": {
    "id": "f0EY6ESfJ7Mn"
   },
   "source": [
    "### 2.Use sklearn.metrics: mean_squared_error, R2 score to evaluate performance"
   ]
  },
  {
   "cell_type": "markdown",
   "metadata": {
    "id": "rvVPLGCwKGYB"
   },
   "source": [
    "#### 2-1 Mean square error"
   ]
  },
  {
   "cell_type": "code",
   "execution_count": 9,
   "metadata": {
    "id": "XIWxItSwJ52W"
   },
   "outputs": [],
   "source": [
    "#using the first dataset we generate\n",
    "from sklearn.metrics import mean_squared_error"
   ]
  },
  {
   "cell_type": "code",
   "execution_count": 10,
   "metadata": {
    "colab": {
     "base_uri": "https://localhost:8080/",
     "height": 34
    },
    "executionInfo": {
     "elapsed": 236,
     "status": "ok",
     "timestamp": 1593234216547,
     "user": {
      "displayName": "Zhiling Zhang",
      "photoUrl": "",
      "userId": "11652514744377731296"
     },
     "user_tz": 300
    },
    "id": "YzSqA4cCKLr4",
    "outputId": "0bcfa555-ad3f-45e9-ef83-e37da26886b3"
   },
   "outputs": [
    {
     "name": "stdout",
     "output_type": "stream",
     "text": [
      "0.05630404318042024\n"
     ]
    }
   ],
   "source": [
    "#synthetic dataset\n",
    "mse = mean_squared_error(y_te, regr.predict(X_te),sample_weight=None, multioutput='uniform_average')\n",
    "print(mse)"
   ]
  },
  {
   "cell_type": "code",
   "execution_count": 11,
   "metadata": {
    "colab": {
     "base_uri": "https://localhost:8080/",
     "height": 34
    },
    "executionInfo": {
     "elapsed": 235,
     "status": "ok",
     "timestamp": 1594489044922,
     "user": {
      "displayName": "Zhiling Zhang",
      "photoUrl": "",
      "userId": "11652514744377731296"
     },
     "user_tz": 300
    },
    "id": "KUjFX-zBe_ET",
    "outputId": "1e4cf4d7-6d7b-40b7-d834-ca23fc069901"
   },
   "outputs": [
    {
     "name": "stdout",
     "output_type": "stream",
     "text": [
      "3934.0672763273196\n"
     ]
    }
   ],
   "source": [
    "#real dataset\n",
    "mse_dia = mean_squared_error(dia_y_te, regr_real.predict(dia_X_te),sample_weight=None, multioutput='uniform_average')\n",
    "print(mse_dia)"
   ]
  },
  {
   "cell_type": "markdown",
   "metadata": {
    "id": "Nnp_wcunKOih"
   },
   "source": [
    "#### 2-2 R2 score"
   ]
  },
  {
   "cell_type": "code",
   "execution_count": 12,
   "metadata": {
    "id": "pfzzUTcjKTyl"
   },
   "outputs": [],
   "source": [
    "from sklearn.metrics import r2_score"
   ]
  },
  {
   "cell_type": "code",
   "execution_count": 13,
   "metadata": {
    "colab": {
     "base_uri": "https://localhost:8080/",
     "height": 34
    },
    "executionInfo": {
     "elapsed": 207,
     "status": "ok",
     "timestamp": 1593234268689,
     "user": {
      "displayName": "Zhiling Zhang",
      "photoUrl": "",
      "userId": "11652514744377731296"
     },
     "user_tz": 300
    },
    "id": "TJ2ZuAj6KVeE",
    "outputId": "444e8e69-acf1-4a8b-f6e0-6912315744f0"
   },
   "outputs": [
    {
     "name": "stdout",
     "output_type": "stream",
     "text": [
      "0.9340188991182494\n"
     ]
    }
   ],
   "source": [
    "#synthetic dataset\n",
    "R2 = r2_score(y_te,regr.predict(X_te),sample_weight=None, multioutput='uniform_average')\n",
    "print(R2)"
   ]
  },
  {
   "cell_type": "code",
   "execution_count": 14,
   "metadata": {
    "colab": {
     "base_uri": "https://localhost:8080/",
     "height": 34
    },
    "executionInfo": {
     "elapsed": 213,
     "status": "ok",
     "timestamp": 1594489170163,
     "user": {
      "displayName": "Zhiling Zhang",
      "photoUrl": "",
      "userId": "11652514744377731296"
     },
     "user_tz": 300
    },
    "id": "5mXTf3bcfMIf",
    "outputId": "01a19bb5-cbe6-4e7e-e6dc-26b0d66a561c"
   },
   "outputs": [
    {
     "name": "stdout",
     "output_type": "stream",
     "text": [
      "0.31643968376857323\n"
     ]
    }
   ],
   "source": [
    "#real dataset\n",
    "R2_dia = r2_score(dia_y_te,regr_real.predict(dia_X_te),sample_weight=None, multioutput='uniform_average')\n",
    "print(R2_dia)"
   ]
  },
  {
   "cell_type": "markdown",
   "metadata": {
    "id": "GOf6aJ_rfgzV"
   },
   "source": [
    "#### 2-3 Plotting train error and test error"
   ]
  },
  {
   "cell_type": "code",
   "execution_count": 15,
   "metadata": {
    "colab": {
     "base_uri": "https://localhost:8080/",
     "height": 265
    },
    "executionInfo": {
     "elapsed": 592,
     "status": "ok",
     "timestamp": 1612907656357,
     "user": {
      "displayName": "Zhiling Zhang",
      "photoUrl": "",
      "userId": "11652514744377731296"
     },
     "user_tz": 360
    },
    "id": "Ng1kCdTufr4y",
    "outputId": "93754a7e-aac5-4fc6-82d4-c514418c1674"
   },
   "outputs": [
    {
     "data": {
      "image/png": "[encoded data removed]",
      "text/plain": [
       "<Figure size 576x288 with 1 Axes>"
      ]
     },
     "metadata": {
      "needs_background": "light"
     },
     "output_type": "display_data"
    }
   ],
   "source": [
    "X_2 = np.array([i*np.pi/180 for i in range(60,300,2)])\n",
    "y_2 = np.sin(X_2) + np.random.normal(0,0.15,len(X_2))\n",
    "    \n",
    "plt.figure(figsize=(8,4))    \n",
    "plt.plot(X_2, y_2, linestyle='', marker='.')\n",
    "plt.show()"
   ]
  },
  {
   "cell_type": "code",
   "execution_count": 24,
   "metadata": {
    "id": "z2lUWyhmkZLy"
   },
   "outputs": [],
   "source": [
    "train_error = []\n",
    "test_error = []"
   ]
  },
  {
   "cell_type": "code",
   "execution_count": 25,
   "metadata": {
    "id": "CB4Oae1SkhWZ"
   },
   "outputs": [],
   "source": [
    "for i in range(1,7,1):\n",
    "  te_size = i*0.1\n",
    "# Variable Train Test Split - Change the size of the testing set\n",
    "  X_tr_2, X_te_2, y_tr_2, y_te_2 = train_test_split(X_2, y_2, test_size=te_size, random_state=42)\n",
    "#Reshape into column vectors\n",
    "  X_tr_2, y_tr_2, X_te_2, y_te_2 = X_tr_2.reshape(-1,1),y_tr_2.reshape(-1,1),X_te_2.reshape(-1,1),y_te_2.reshape(-1,1)\n",
    "#Define a Model\n",
    "  regr_2 = LinearRegression()\n",
    "#Train the model using \".fit\" and the trainging Data\n",
    "  regr_2.fit(X_tr_2, y_tr_2)\n",
    "#MSE for the Training Set\n",
    "  mse_tr = mean_squared_error(y_tr_2, regr_2.predict(X_tr_2)) \n",
    "#MSE for the Testing Set\n",
    "  mse_te = mean_squared_error(y_te_2, regr_2.predict(X_te_2)) \n",
    "#Collect the errors in a list. \n",
    "  train_error.append(mse_tr)\n",
    "  test_error.append(mse_te)"
   ]
  },
  {
   "cell_type": "code",
   "execution_count": 26,
   "metadata": {
    "colab": {
     "base_uri": "https://localhost:8080/",
     "height": 279
    },
    "executionInfo": {
     "elapsed": 704,
     "status": "ok",
     "timestamp": 1612907906437,
     "user": {
      "displayName": "Zhiling Zhang",
      "photoUrl": "",
      "userId": "11652514744377731296"
     },
     "user_tz": 360
    },
    "id": "yTroxsjjnmPB",
    "outputId": "4a861b6c-d4d2-4763-9d09-c16c4bf6979c"
   },
   "outputs": [
    {
     "data": {
      "image/png": "[encoded data removed]",
      "text/plain": [
       "<Figure size 432x288 with 1 Axes>"
      ]
     },
     "metadata": {
      "needs_background": "light"
     },
     "output_type": "display_data"
    }
   ],
   "source": [
    "test_size = [i*0.1 for i in range(1,7)]\n",
    "\n",
    "#Plot the training error as a function of test set size\n",
    "plt.plot(test_size, train_error,label='train error') \n",
    "#Plot the testing error as a function of test set size\n",
    "plt.plot(test_size, test_error,label='test error')\n",
    "\n",
    "\n",
    "plt.xlabel('test size percentage')\n",
    "plt.ylabel('MSE')\n",
    "plt.legend()\n",
    "plt.show()"
   ]
  },
  {
   "cell_type": "code",
   "execution_count": null,
   "metadata": {
    "id": "ZPjfxadhzIg3"
   },
   "outputs": [],
   "source": []
  }
 ],
 "metadata": {
  "colab": {
   "authorship_tag": "ABX9TyOOHhbvpuiketsQcTXp4VsY",
   "collapsed_sections": [],
   "name": "Programming Session#2.ipynb",
   "provenance": []
  },
  "kernelspec": {
   "display_name": "Python 3",
   "language": "python",
   "name": "python3"
  },
  "language_info": {
   "codemirror_mode": {
    "name": "ipython",
    "version": 3
   },
   "file_extension": ".py",
   "mimetype": "text/x-python",
   "name": "python",
   "nbconvert_exporter": "python",
   "pygments_lexer": "ipython3",
   "version": "3.8.8"
  }
 },
 "nbformat": 4,
 "nbformat_minor": 1
}
